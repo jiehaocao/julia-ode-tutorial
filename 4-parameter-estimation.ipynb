{
 "cells": [
  {
   "attachments": {},
   "cell_type": "markdown",
   "metadata": {},
   "source": [
    "# Parameter Estimation for ODE Systems using Julia"
   ]
  },
  {
   "cell_type": "code",
   "execution_count": 1,
   "metadata": {},
   "outputs": [],
   "source": [
    "using DifferentialEquations, Plots\n",
    "using Optimization, SciMLSensitivity, Zygote"
   ]
  },
  {
   "attachments": {},
   "cell_type": "markdown",
   "metadata": {},
   "source": [
    "In this example, we will reuse a slightly modified version of the homeostatic chemical reaction system from the ODE simulation example. We removed the external input and the sink term of A.\n",
    "\n",
    "$$\n",
    "\\begin{align}\n",
    "\\dot{A} &= \\frac{p_1}{1+C} - k_1A \\\\\n",
    "\\dot{B} &= k_1A - k_2B \\\\\n",
    "\\dot{C} &= \\frac{k_2B}{1+C} - c_1C  \\\\\n",
    "\\end{align}\n",
    "$$"
   ]
  },
  {
   "cell_type": "code",
   "execution_count": 2,
   "metadata": {},
   "outputs": [],
   "source": [
    "function chemsys!(du, u, p, t)\n",
    "    A, B, C = u\n",
    "    p1, k1, k2, c1 = p\n",
    "    du[1] = ((p1)./(1 .+C)) .- k1.*A\n",
    "    du[2] = k1.*A .- k2.*B\n",
    "    du[3] = (k2.*B)./(1 .+C) - c1.*C\n",
    "end;\n",
    "\n",
    "# parameters\n",
    "u0 = [1.8, 0., 0.]\n",
    "initial_p = [0.1, 0.15, 0.07, 0.12]\n",
    "tspan = (0., 500.)\n",
    "\n",
    "# and create an ode problem to solve\n",
    "problem = ODEProblem(chemsys!, u0, tspan, initial_p);"
   ]
  },
  {
   "attachments": {},
   "cell_type": "markdown",
   "metadata": {},
   "source": [
    "As a first example, we will try to obtain a steady state of 0.3 for all three molecules after $t = 200$. At first, we have to define a loss function for optimization."
   ]
  },
  {
   "cell_type": "code",
   "execution_count": 25,
   "metadata": {},
   "outputs": [
    {
     "name": "stdout",
     "output_type": "stream",
     "text": [
      "The initial loss is 164.15123928955455"
     ]
    }
   ],
   "source": [
    "steady_state_target = 0.3\n",
    "function loss(p) \n",
    "    # save the solution at every second until 500 seconds \n",
    "    solution = DifferentialEquations.solve(problem,Tsit5(), p=p, saveat=0:500)\n",
    "\n",
    "    u = Matrix(solution)\n",
    "\n",
    "    error = sum(abs2, u[:, 201:end].-steady_state_target)\n",
    "    return error, solution\n",
    "end\n",
    "\n",
    "print(\"The initial loss is $(loss(initial_p)[1])\")"
   ]
  },
  {
   "attachments": {},
   "cell_type": "markdown",
   "metadata": {},
   "source": [
    "We then define an optimization function. For this we first have to specify which algorithm we want to use for automatic differentiation (AD). Often, the AutoZygote option is a good choice. We then use this to define the OptimizationFunction, which takes a function and the AD type as arguments. The function should be a function of the parameters $x$ and the hyperparameters $p$. Because our loss function has no hyperparameters, we specify an anonymous function where the second argument is not used."
   ]
  },
  {
   "cell_type": "code",
   "execution_count": 26,
   "metadata": {},
   "outputs": [],
   "source": [
    "adtype = Optimization.AutoZygote()\n",
    "optf   = Optimization.OptimizationFunction((x,p) -> loss(x), adtype);"
   ]
  },
  {
   "attachments": {},
   "cell_type": "markdown",
   "metadata": {},
   "source": [
    "We can also define a small callback function to print the loss function value at every step."
   ]
  },
  {
   "cell_type": "code",
   "execution_count": 22,
   "metadata": {},
   "outputs": [
    {
     "data": {
      "text/plain": [
       "#7 (generic function with 1 method)"
      ]
     },
     "execution_count": 22,
     "metadata": {},
     "output_type": "execute_result"
    }
   ],
   "source": [
    "callback = function (p, l, pred)\n",
    "    display(l)\n",
    "    # Tell Optimization.solve to not halt the optimization. If return true, then\n",
    "    # optimization stops.\n",
    "    return false\n",
    "end"
   ]
  },
  {
   "attachments": {},
   "cell_type": "markdown",
   "metadata": {},
   "source": [
    "Time to optimize! The solver is taken from the OptimizationOptimJL library, where we choose the BFGS solver. We modify the solver a bit, changing the line search algorithm to 3rd-order backtracking, instead of the default Haeger-Zhang, as this results in less gradient calls and a faster optimization. "
   ]
  },
  {
   "cell_type": "code",
   "execution_count": 23,
   "metadata": {},
   "outputs": [
    {
     "data": {
      "text/plain": [
       "164.15123928955455"
      ]
     },
     "metadata": {},
     "output_type": "display_data"
    },
    {
     "data": {
      "text/plain": [
       "8.629194199598384"
      ]
     },
     "metadata": {},
     "output_type": "display_data"
    },
    {
     "data": {
      "text/plain": [
       "1.0131401886138012"
      ]
     },
     "metadata": {},
     "output_type": "display_data"
    },
    {
     "data": {
      "text/plain": [
       "0.3813425564404528"
      ]
     },
     "metadata": {},
     "output_type": "display_data"
    },
    {
     "data": {
      "text/plain": [
       "0.009321128853200146"
      ]
     },
     "metadata": {},
     "output_type": "display_data"
    },
    {
     "data": {
      "text/plain": [
       "0.12387145678694533"
      ]
     },
     "metadata": {},
     "output_type": "display_data"
    },
    {
     "data": {
      "text/plain": [
       "0.09290463792401875"
      ]
     },
     "metadata": {},
     "output_type": "display_data"
    },
    {
     "data": {
      "text/plain": [
       "0.020429375594874667"
      ]
     },
     "metadata": {},
     "output_type": "display_data"
    },
    {
     "data": {
      "text/plain": [
       "0.010829094384216812"
      ]
     },
     "metadata": {},
     "output_type": "display_data"
    },
    {
     "data": {
      "text/plain": [
       "0.001954100931245641"
      ]
     },
     "metadata": {},
     "output_type": "display_data"
    },
    {
     "data": {
      "text/plain": [
       "0.007709480724079571"
      ]
     },
     "metadata": {},
     "output_type": "display_data"
    },
    {
     "data": {
      "text/plain": [
       "0.004415355411513583"
      ]
     },
     "metadata": {},
     "output_type": "display_data"
    },
    {
     "data": {
      "text/plain": [
       "0.0002271955119267135"
      ]
     },
     "metadata": {},
     "output_type": "display_data"
    },
    {
     "data": {
      "text/plain": [
       "0.0001930740035191951"
      ]
     },
     "metadata": {},
     "output_type": "display_data"
    },
    {
     "data": {
      "text/plain": [
       "5.8771828912664965e-5"
      ]
     },
     "metadata": {},
     "output_type": "display_data"
    },
    {
     "data": {
      "text/plain": [
       "7.089400035534945e-5"
      ]
     },
     "metadata": {},
     "output_type": "display_data"
    },
    {
     "data": {
      "text/plain": [
       "6.106457542308194e-5"
      ]
     },
     "metadata": {},
     "output_type": "display_data"
    },
    {
     "data": {
      "text/plain": [
       "6.35382912607958e-5"
      ]
     },
     "metadata": {},
     "output_type": "display_data"
    },
    {
     "data": {
      "text/plain": [
       "6.316732436761297e-5"
      ]
     },
     "metadata": {},
     "output_type": "display_data"
    },
    {
     "data": {
      "text/plain": [
       "6.316685606113578e-5"
      ]
     },
     "metadata": {},
     "output_type": "display_data"
    },
    {
     "data": {
      "text/plain": [
       "6.316685530150803e-5"
      ]
     },
     "metadata": {},
     "output_type": "display_data"
    },
    {
     "data": {
      "text/plain": [
       "6.316685086231481e-5"
      ]
     },
     "metadata": {},
     "output_type": "display_data"
    },
    {
     "data": {
      "text/plain": [
       "6.316684262923817e-5"
      ]
     },
     "metadata": {},
     "output_type": "display_data"
    },
    {
     "data": {
      "text/plain": [
       "6.316615720968826e-5"
      ]
     },
     "metadata": {},
     "output_type": "display_data"
    },
    {
     "data": {
      "text/plain": [
       "6.316615720968826e-5"
      ]
     },
     "metadata": {},
     "output_type": "display_data"
    },
    {
     "data": {
      "text/plain": [
       "6.316615720968826e-5"
      ]
     },
     "metadata": {},
     "output_type": "display_data"
    },
    {
     "data": {
      "text/plain": [
       "2.2249432327889983e-5"
      ]
     },
     "metadata": {},
     "output_type": "display_data"
    },
    {
     "data": {
      "text/plain": [
       "8.828248556142203e-6"
      ]
     },
     "metadata": {},
     "output_type": "display_data"
    },
    {
     "data": {
      "text/plain": [
       "8.735462937086623e-6"
      ]
     },
     "metadata": {},
     "output_type": "display_data"
    },
    {
     "data": {
      "text/plain": [
       "8.725784986724903e-6"
      ]
     },
     "metadata": {},
     "output_type": "display_data"
    },
    {
     "data": {
      "text/plain": [
       "8.719965151991418e-6"
      ]
     },
     "metadata": {},
     "output_type": "display_data"
    },
    {
     "data": {
      "text/plain": [
       "8.690853647004412e-6"
      ]
     },
     "metadata": {},
     "output_type": "display_data"
    },
    {
     "data": {
      "text/plain": [
       "8.64738124192892e-6"
      ]
     },
     "metadata": {},
     "output_type": "display_data"
    },
    {
     "data": {
      "text/plain": [
       "8.604726181098689e-6"
      ]
     },
     "metadata": {},
     "output_type": "display_data"
    },
    {
     "data": {
      "text/plain": [
       "8.604647586552954e-6"
      ]
     },
     "metadata": {},
     "output_type": "display_data"
    },
    {
     "data": {
      "text/plain": [
       "8.602871796837401e-6"
      ]
     },
     "metadata": {},
     "output_type": "display_data"
    },
    {
     "data": {
      "text/plain": [
       "8.602657448228906e-6"
      ]
     },
     "metadata": {},
     "output_type": "display_data"
    },
    {
     "data": {
      "text/plain": [
       "8.602646172777308e-6"
      ]
     },
     "metadata": {},
     "output_type": "display_data"
    },
    {
     "data": {
      "text/plain": [
       "8.602645299805888e-6"
      ]
     },
     "metadata": {},
     "output_type": "display_data"
    },
    {
     "data": {
      "text/plain": [
       "8.602645274133219e-6"
      ]
     },
     "metadata": {},
     "output_type": "display_data"
    },
    {
     "data": {
      "text/plain": [
       "8.602637173366034e-6"
      ]
     },
     "metadata": {},
     "output_type": "display_data"
    },
    {
     "data": {
      "text/plain": [
       "8.602637173366034e-6"
      ]
     },
     "metadata": {},
     "output_type": "display_data"
    },
    {
     "data": {
      "text/plain": [
       "8.602637173366034e-6"
      ]
     },
     "metadata": {},
     "output_type": "display_data"
    },
    {
     "data": {
      "text/plain": [
       "8.601578459313123e-6"
      ]
     },
     "metadata": {},
     "output_type": "display_data"
    },
    {
     "data": {
      "text/plain": [
       "8.599835760661486e-6"
      ]
     },
     "metadata": {},
     "output_type": "display_data"
    },
    {
     "data": {
      "text/plain": [
       "8.599835696700224e-6"
      ]
     },
     "metadata": {},
     "output_type": "display_data"
    },
    {
     "data": {
      "text/plain": [
       "8.597383268342715e-6"
      ]
     },
     "metadata": {},
     "output_type": "display_data"
    },
    {
     "data": {
      "text/plain": [
       "8.087088085024018e-6"
      ]
     },
     "metadata": {},
     "output_type": "display_data"
    },
    {
     "data": {
      "text/plain": [
       "6.7249844264375815e-6"
      ]
     },
     "metadata": {},
     "output_type": "display_data"
    },
    {
     "data": {
      "text/plain": [
       "5.619570435899202e-6"
      ]
     },
     "metadata": {},
     "output_type": "display_data"
    },
    {
     "data": {
      "text/plain": [
       "4.308933563362592e-6"
      ]
     },
     "metadata": {},
     "output_type": "display_data"
    },
    {
     "data": {
      "text/plain": [
       "3.056314949742922e-6"
      ]
     },
     "metadata": {},
     "output_type": "display_data"
    },
    {
     "data": {
      "text/plain": [
       "2.8830871613294944e-6"
      ]
     },
     "metadata": {},
     "output_type": "display_data"
    },
    {
     "data": {
      "text/plain": [
       "2.6365452880920225e-6"
      ]
     },
     "metadata": {},
     "output_type": "display_data"
    },
    {
     "data": {
      "text/plain": [
       "2.6361886140798645e-6"
      ]
     },
     "metadata": {},
     "output_type": "display_data"
    },
    {
     "data": {
      "text/plain": [
       "2.635503291508501e-6"
      ]
     },
     "metadata": {},
     "output_type": "display_data"
    },
    {
     "data": {
      "text/plain": [
       "2.635371551737966e-6"
      ]
     },
     "metadata": {},
     "output_type": "display_data"
    },
    {
     "data": {
      "text/plain": [
       "2.635371545426732e-6"
      ]
     },
     "metadata": {},
     "output_type": "display_data"
    },
    {
     "data": {
      "text/plain": [
       "2.6353715369337796e-6"
      ]
     },
     "metadata": {},
     "output_type": "display_data"
    },
    {
     "data": {
      "text/plain": [
       "2.6353715369337796e-6"
      ]
     },
     "metadata": {},
     "output_type": "display_data"
    },
    {
     "data": {
      "text/plain": [
       "2.6353715369337796e-6"
      ]
     },
     "metadata": {},
     "output_type": "display_data"
    },
    {
     "data": {
      "text/plain": [
       "2.6353711363720665e-6"
      ]
     },
     "metadata": {},
     "output_type": "display_data"
    },
    {
     "data": {
      "text/plain": [
       "2.6353704173239964e-6"
      ]
     },
     "metadata": {},
     "output_type": "display_data"
    },
    {
     "data": {
      "text/plain": [
       "2.6353683888955123e-6"
      ]
     },
     "metadata": {},
     "output_type": "display_data"
    },
    {
     "data": {
      "text/plain": [
       "2.6316796485101586e-6"
      ]
     },
     "metadata": {},
     "output_type": "display_data"
    },
    {
     "data": {
      "text/plain": [
       "2.6290306852833228e-6"
      ]
     },
     "metadata": {},
     "output_type": "display_data"
    },
    {
     "data": {
      "text/plain": [
       "2.6256413521321117e-6"
      ]
     },
     "metadata": {},
     "output_type": "display_data"
    },
    {
     "data": {
      "text/plain": [
       "2.6246231620793206e-6"
      ]
     },
     "metadata": {},
     "output_type": "display_data"
    },
    {
     "data": {
      "text/plain": [
       "2.6246113497157685e-6"
      ]
     },
     "metadata": {},
     "output_type": "display_data"
    },
    {
     "data": {
      "text/plain": [
       "2.6246113471075287e-6"
      ]
     },
     "metadata": {},
     "output_type": "display_data"
    },
    {
     "data": {
      "text/plain": [
       "2.624611012701911e-6"
      ]
     },
     "metadata": {},
     "output_type": "display_data"
    },
    {
     "data": {
      "text/plain": [
       "2.624611012701911e-6"
      ]
     },
     "metadata": {},
     "output_type": "display_data"
    },
    {
     "data": {
      "text/plain": [
       "2.624611012701911e-6"
      ]
     },
     "metadata": {},
     "output_type": "display_data"
    },
    {
     "data": {
      "text/plain": [
       "2.6244602285043515e-6"
      ]
     },
     "metadata": {},
     "output_type": "display_data"
    },
    {
     "data": {
      "text/plain": [
       "2.624452107258837e-6"
      ]
     },
     "metadata": {},
     "output_type": "display_data"
    },
    {
     "data": {
      "text/plain": [
       "2.6244518261099482e-6"
      ]
     },
     "metadata": {},
     "output_type": "display_data"
    },
    {
     "data": {
      "text/plain": [
       "2.6244509979674777e-6"
      ]
     },
     "metadata": {},
     "output_type": "display_data"
    },
    {
     "data": {
      "text/plain": [
       "2.6244506911778367e-6"
      ]
     },
     "metadata": {},
     "output_type": "display_data"
    },
    {
     "data": {
      "text/plain": [
       "2.6244504020447224e-6"
      ]
     },
     "metadata": {},
     "output_type": "display_data"
    },
    {
     "data": {
      "text/plain": [
       "2.6244503765145293e-6"
      ]
     },
     "metadata": {},
     "output_type": "display_data"
    },
    {
     "data": {
      "text/plain": [
       "2.624450375379741e-6"
      ]
     },
     "metadata": {},
     "output_type": "display_data"
    },
    {
     "data": {
      "text/plain": [
       "2.62445037165092e-6"
      ]
     },
     "metadata": {},
     "output_type": "display_data"
    },
    {
     "data": {
      "text/plain": [
       "2.62445037165092e-6"
      ]
     },
     "metadata": {},
     "output_type": "display_data"
    },
    {
     "data": {
      "text/plain": [
       "2.62445037165092e-6"
      ]
     },
     "metadata": {},
     "output_type": "display_data"
    },
    {
     "data": {
      "text/plain": [
       "2.62445037165092e-6"
      ]
     },
     "metadata": {},
     "output_type": "display_data"
    },
    {
     "name": "stdout",
     "output_type": "stream",
     "text": [
      "retcode: Success\n",
      "u: [0.07127183084160817, 0.18274878039986142, 0.18274790173821195, 0.1405764886384207]\n",
      "Final objective value:     2.62445037165092e-6\n"
     ]
    }
   ],
   "source": [
    "using OptimizationOptimJL, LineSearches\n",
    "opt_problem = Optimization.OptimizationProblem(optf, initial_p, lb = [0.,0.,0.,0.], ub=[0.2,0.2,0.2,0.2]);\n",
    "sol     = Optimization.solve(opt_problem, BFGS(linesearch=BackTracking(order=3)), callback=callback)\n",
    "print(sol)"
   ]
  },
  {
   "attachments": {},
   "cell_type": "markdown",
   "metadata": {},
   "source": [
    "We see that the optimization has succesfully found a solution within our boundaries and we decide to plot the solution."
   ]
  },
  {
   "cell_type": "code",
   "execution_count": 41,
   "metadata": {},
   "outputs": [
    {
     "data": {
      "image/svg+xml": "<?xml version=\"1.0\" encoding=\"utf-8\"?>\n<svg xmlns=\"http://www.w3.org/2000/svg\" xmlns:xlink=\"http://www.w3.org/1999/xlink\" width=\"600\" height=\"400\" viewBox=\"0 0 2400 1600\">\n<defs>\n  <clipPath id=\"clip040\">\n    <rect x=\"0\" y=\"0\" width=\"2400\" height=\"1600\"/>\n  </clipPath>\n</defs>\n<path clip-path=\"url(#clip040)\" d=\"\nM0 1600 L2400 1600 L2400 0 L0 0  Z\n  \" fill=\"#ffffff\" fill-rule=\"evenodd\" fill-opacity=\"1\"/>\n<defs>\n  <clipPath id=\"clip041\">\n    <rect x=\"480\" y=\"0\" width=\"1681\" height=\"1600\"/>\n  </clipPath>\n</defs>\n<path clip-path=\"url(#clip040)\" d=\"\nM206.42 1436.14 L2352.76 1436.14 L2352.76 104.909 L206.42 104.909  Z\n  \" fill=\"#ffffff\" fill-rule=\"evenodd\" fill-opacity=\"1\"/>\n<defs>\n  <clipPath id=\"clip042\">\n    <rect x=\"206\" y=\"104\" width=\"2147\" height=\"1332\"/>\n  </clipPath>\n</defs>\n<polyline clip-path=\"url(#clip042)\" style=\"stroke:#000000; stroke-linecap:round; stroke-linejoin:round; stroke-width:2; stroke-opacity:0.1; fill:none\" points=\"\n  206.42,1436.14 206.42,104.909 \n  \"/>\n<polyline clip-path=\"url(#clip042)\" style=\"stroke:#000000; stroke-linecap:round; stroke-linejoin:round; stroke-width:2; stroke-opacity:0.1; fill:none\" points=\"\n  743.004,1436.14 743.004,104.909 \n  \"/>\n<polyline clip-path=\"url(#clip042)\" style=\"stroke:#000000; stroke-linecap:round; stroke-linejoin:round; stroke-width:2; stroke-opacity:0.1; fill:none\" points=\"\n  1279.59,1436.14 1279.59,104.909 \n  \"/>\n<polyline clip-path=\"url(#clip042)\" style=\"stroke:#000000; stroke-linecap:round; stroke-linejoin:round; stroke-width:2; stroke-opacity:0.1; fill:none\" points=\"\n  1816.17,1436.14 1816.17,104.909 \n  \"/>\n<polyline clip-path=\"url(#clip042)\" style=\"stroke:#000000; stroke-linecap:round; stroke-linejoin:round; stroke-width:2; stroke-opacity:0.1; fill:none\" points=\"\n  2352.76,1436.14 2352.76,104.909 \n  \"/>\n<polyline clip-path=\"url(#clip040)\" style=\"stroke:#000000; stroke-linecap:round; stroke-linejoin:round; stroke-width:4; stroke-opacity:1; fill:none\" points=\"\n  206.42,1436.14 2352.76,1436.14 \n  \"/>\n<polyline clip-path=\"url(#clip040)\" style=\"stroke:#000000; stroke-linecap:round; stroke-linejoin:round; stroke-width:4; stroke-opacity:1; fill:none\" points=\"\n  206.42,1436.14 206.42,1417.24 \n  \"/>\n<polyline clip-path=\"url(#clip040)\" style=\"stroke:#000000; stroke-linecap:round; stroke-linejoin:round; stroke-width:4; stroke-opacity:1; fill:none\" points=\"\n  743.004,1436.14 743.004,1417.24 \n  \"/>\n<polyline clip-path=\"url(#clip040)\" style=\"stroke:#000000; stroke-linecap:round; stroke-linejoin:round; stroke-width:4; stroke-opacity:1; fill:none\" points=\"\n  1279.59,1436.14 1279.59,1417.24 \n  \"/>\n<polyline clip-path=\"url(#clip040)\" style=\"stroke:#000000; stroke-linecap:round; stroke-linejoin:round; stroke-width:4; stroke-opacity:1; fill:none\" points=\"\n  1816.17,1436.14 1816.17,1417.24 \n  \"/>\n<polyline clip-path=\"url(#clip040)\" style=\"stroke:#000000; stroke-linecap:round; stroke-linejoin:round; stroke-width:4; stroke-opacity:1; fill:none\" points=\"\n  2352.76,1436.14 2352.76,1417.24 \n  \"/>\n<path clip-path=\"url(#clip040)\" d=\"M206.42 1467.06 Q202.809 1467.06 200.98 1470.62 Q199.175 1474.16 199.175 1481.29 Q199.175 1488.4 200.98 1491.97 Q202.809 1495.51 206.42 1495.51 Q210.054 1495.51 211.86 1491.97 Q213.689 1488.4 213.689 1481.29 Q213.689 1474.16 211.86 1470.62 Q210.054 1467.06 206.42 1467.06 M206.42 1463.35 Q212.23 1463.35 215.286 1467.96 Q218.365 1472.54 218.365 1481.29 Q218.365 1490.02 215.286 1494.63 Q212.23 1499.21 206.42 1499.21 Q200.61 1499.21 197.531 1494.63 Q194.476 1490.02 194.476 1481.29 Q194.476 1472.54 197.531 1467.96 Q200.61 1463.35 206.42 1463.35 Z\" fill=\"#000000\" fill-rule=\"evenodd\" fill-opacity=\"1\" /><path clip-path=\"url(#clip040)\" d=\"M717.703 1463.98 L736.06 1463.98 L736.06 1467.92 L721.986 1467.92 L721.986 1476.39 Q723.004 1476.04 724.023 1475.88 Q725.041 1475.69 726.06 1475.69 Q731.847 1475.69 735.226 1478.86 Q738.606 1482.04 738.606 1487.45 Q738.606 1493.03 735.134 1496.13 Q731.662 1499.21 725.342 1499.21 Q723.166 1499.21 720.898 1498.84 Q718.652 1498.47 716.245 1497.73 L716.245 1493.03 Q718.328 1494.16 720.551 1494.72 Q722.773 1495.28 725.25 1495.28 Q729.254 1495.28 731.592 1493.17 Q733.93 1491.06 733.93 1487.45 Q733.93 1483.84 731.592 1481.73 Q729.254 1479.63 725.25 1479.63 Q723.375 1479.63 721.5 1480.04 Q719.648 1480.46 717.703 1481.34 L717.703 1463.98 Z\" fill=\"#000000\" fill-rule=\"evenodd\" fill-opacity=\"1\" /><path clip-path=\"url(#clip040)\" d=\"M757.819 1467.06 Q754.208 1467.06 752.379 1470.62 Q750.573 1474.16 750.573 1481.29 Q750.573 1488.4 752.379 1491.97 Q754.208 1495.51 757.819 1495.51 Q761.453 1495.51 763.259 1491.97 Q765.087 1488.4 765.087 1481.29 Q765.087 1474.16 763.259 1470.62 Q761.453 1467.06 757.819 1467.06 M757.819 1463.35 Q763.629 1463.35 766.685 1467.96 Q769.763 1472.54 769.763 1481.29 Q769.763 1490.02 766.685 1494.63 Q763.629 1499.21 757.819 1499.21 Q752.009 1499.21 748.93 1494.63 Q745.874 1490.02 745.874 1481.29 Q745.874 1472.54 748.93 1467.96 Q752.009 1463.35 757.819 1463.35 Z\" fill=\"#000000\" fill-rule=\"evenodd\" fill-opacity=\"1\" /><path clip-path=\"url(#clip040)\" d=\"M1239.19 1494.6 L1246.83 1494.6 L1246.83 1468.24 L1238.52 1469.91 L1238.52 1465.65 L1246.79 1463.98 L1251.46 1463.98 L1251.46 1494.6 L1259.1 1494.6 L1259.1 1498.54 L1239.19 1498.54 L1239.19 1494.6 Z\" fill=\"#000000\" fill-rule=\"evenodd\" fill-opacity=\"1\" /><path clip-path=\"url(#clip040)\" d=\"M1278.55 1467.06 Q1274.94 1467.06 1273.11 1470.62 Q1271.3 1474.16 1271.3 1481.29 Q1271.3 1488.4 1273.11 1491.97 Q1274.94 1495.51 1278.55 1495.51 Q1282.18 1495.51 1283.99 1491.97 Q1285.81 1488.4 1285.81 1481.29 Q1285.81 1474.16 1283.99 1470.62 Q1282.18 1467.06 1278.55 1467.06 M1278.55 1463.35 Q1284.36 1463.35 1287.41 1467.96 Q1290.49 1472.54 1290.49 1481.29 Q1290.49 1490.02 1287.41 1494.63 Q1284.36 1499.21 1278.55 1499.21 Q1272.74 1499.21 1269.66 1494.63 Q1266.6 1490.02 1266.6 1481.29 Q1266.6 1472.54 1269.66 1467.96 Q1272.74 1463.35 1278.55 1463.35 Z\" fill=\"#000000\" fill-rule=\"evenodd\" fill-opacity=\"1\" /><path clip-path=\"url(#clip040)\" d=\"M1308.71 1467.06 Q1305.1 1467.06 1303.27 1470.62 Q1301.46 1474.16 1301.46 1481.29 Q1301.46 1488.4 1303.27 1491.97 Q1305.1 1495.51 1308.71 1495.51 Q1312.34 1495.51 1314.15 1491.97 Q1315.98 1488.4 1315.98 1481.29 Q1315.98 1474.16 1314.15 1470.62 Q1312.34 1467.06 1308.71 1467.06 M1308.71 1463.35 Q1314.52 1463.35 1317.57 1467.96 Q1320.65 1472.54 1320.65 1481.29 Q1320.65 1490.02 1317.57 1494.63 Q1314.52 1499.21 1308.71 1499.21 Q1302.9 1499.21 1299.82 1494.63 Q1296.76 1490.02 1296.76 1481.29 Q1296.76 1472.54 1299.82 1467.96 Q1302.9 1463.35 1308.71 1463.35 Z\" fill=\"#000000\" fill-rule=\"evenodd\" fill-opacity=\"1\" /><path clip-path=\"url(#clip040)\" d=\"M1775.78 1494.6 L1783.42 1494.6 L1783.42 1468.24 L1775.11 1469.91 L1775.11 1465.65 L1783.37 1463.98 L1788.05 1463.98 L1788.05 1494.6 L1795.69 1494.6 L1795.69 1498.54 L1775.78 1498.54 L1775.78 1494.6 Z\" fill=\"#000000\" fill-rule=\"evenodd\" fill-opacity=\"1\" /><path clip-path=\"url(#clip040)\" d=\"M1805.18 1463.98 L1823.53 1463.98 L1823.53 1467.92 L1809.46 1467.92 L1809.46 1476.39 Q1810.48 1476.04 1811.5 1475.88 Q1812.51 1475.69 1813.53 1475.69 Q1819.32 1475.69 1822.7 1478.86 Q1826.08 1482.04 1826.08 1487.45 Q1826.08 1493.03 1822.61 1496.13 Q1819.13 1499.21 1812.82 1499.21 Q1810.64 1499.21 1808.37 1498.84 Q1806.13 1498.47 1803.72 1497.73 L1803.72 1493.03 Q1805.8 1494.16 1808.02 1494.72 Q1810.25 1495.28 1812.72 1495.28 Q1816.73 1495.28 1819.07 1493.17 Q1821.4 1491.06 1821.4 1487.45 Q1821.4 1483.84 1819.07 1481.73 Q1816.73 1479.63 1812.72 1479.63 Q1810.85 1479.63 1808.97 1480.04 Q1807.12 1480.46 1805.18 1481.34 L1805.18 1463.98 Z\" fill=\"#000000\" fill-rule=\"evenodd\" fill-opacity=\"1\" /><path clip-path=\"url(#clip040)\" d=\"M1845.29 1467.06 Q1841.68 1467.06 1839.85 1470.62 Q1838.05 1474.16 1838.05 1481.29 Q1838.05 1488.4 1839.85 1491.97 Q1841.68 1495.51 1845.29 1495.51 Q1848.93 1495.51 1850.73 1491.97 Q1852.56 1488.4 1852.56 1481.29 Q1852.56 1474.16 1850.73 1470.62 Q1848.93 1467.06 1845.29 1467.06 M1845.29 1463.35 Q1851.1 1463.35 1854.16 1467.96 Q1857.24 1472.54 1857.24 1481.29 Q1857.24 1490.02 1854.16 1494.63 Q1851.1 1499.21 1845.29 1499.21 Q1839.48 1499.21 1836.4 1494.63 Q1833.35 1490.02 1833.35 1481.29 Q1833.35 1472.54 1836.4 1467.96 Q1839.48 1463.35 1845.29 1463.35 Z\" fill=\"#000000\" fill-rule=\"evenodd\" fill-opacity=\"1\" /><path clip-path=\"url(#clip040)\" d=\"M2316.45 1494.6 L2332.77 1494.6 L2332.77 1498.54 L2310.82 1498.54 L2310.82 1494.6 Q2313.49 1491.85 2318.07 1487.22 Q2322.68 1482.57 2323.86 1481.23 Q2326.1 1478.7 2326.98 1476.97 Q2327.88 1475.21 2327.88 1473.52 Q2327.88 1470.76 2325.94 1469.03 Q2324.02 1467.29 2320.92 1467.29 Q2318.72 1467.29 2316.26 1468.05 Q2313.83 1468.82 2311.05 1470.37 L2311.05 1465.65 Q2313.88 1464.51 2316.33 1463.93 Q2318.79 1463.35 2320.82 1463.35 Q2326.19 1463.35 2329.39 1466.04 Q2332.58 1468.73 2332.58 1473.22 Q2332.58 1475.35 2331.77 1477.27 Q2330.99 1479.16 2328.88 1481.76 Q2328.3 1482.43 2325.2 1485.65 Q2322.1 1488.84 2316.45 1494.6 Z\" fill=\"#000000\" fill-rule=\"evenodd\" fill-opacity=\"1\" /><path clip-path=\"url(#clip040)\" d=\"M2352.58 1467.06 Q2348.97 1467.06 2347.14 1470.62 Q2345.34 1474.16 2345.34 1481.29 Q2345.34 1488.4 2347.14 1491.97 Q2348.97 1495.51 2352.58 1495.51 Q2356.22 1495.51 2358.02 1491.97 Q2359.85 1488.4 2359.85 1481.29 Q2359.85 1474.16 2358.02 1470.62 Q2356.22 1467.06 2352.58 1467.06 M2352.58 1463.35 Q2358.39 1463.35 2361.45 1467.96 Q2364.53 1472.54 2364.53 1481.29 Q2364.53 1490.02 2361.45 1494.63 Q2358.39 1499.21 2352.58 1499.21 Q2346.77 1499.21 2343.69 1494.63 Q2340.64 1490.02 2340.64 1481.29 Q2340.64 1472.54 2343.69 1467.96 Q2346.77 1463.35 2352.58 1463.35 Z\" fill=\"#000000\" fill-rule=\"evenodd\" fill-opacity=\"1\" /><path clip-path=\"url(#clip040)\" d=\"M2382.74 1467.06 Q2379.13 1467.06 2377.3 1470.62 Q2375.5 1474.16 2375.5 1481.29 Q2375.5 1488.4 2377.3 1491.97 Q2379.13 1495.51 2382.74 1495.51 Q2386.38 1495.51 2388.18 1491.97 Q2390.01 1488.4 2390.01 1481.29 Q2390.01 1474.16 2388.18 1470.62 Q2386.38 1467.06 2382.74 1467.06 M2382.74 1463.35 Q2388.55 1463.35 2391.61 1467.96 Q2394.69 1472.54 2394.69 1481.29 Q2394.69 1490.02 2391.61 1494.63 Q2388.55 1499.21 2382.74 1499.21 Q2376.93 1499.21 2373.86 1494.63 Q2370.8 1490.02 2370.8 1481.29 Q2370.8 1472.54 2373.86 1467.96 Q2376.93 1463.35 2382.74 1463.35 Z\" fill=\"#000000\" fill-rule=\"evenodd\" fill-opacity=\"1\" /><path clip-path=\"url(#clip040)\" d=\"M1222.77 1530.89 L1252.01 1530.89 L1252.01 1534.83 L1239.74 1534.83 L1239.74 1565.45 L1235.04 1565.45 L1235.04 1534.83 L1222.77 1534.83 L1222.77 1530.89 Z\" fill=\"#000000\" fill-rule=\"evenodd\" fill-opacity=\"1\" /><path clip-path=\"url(#clip040)\" d=\"M1254.88 1539.53 L1259.14 1539.53 L1259.14 1565.45 L1254.88 1565.45 L1254.88 1539.53 M1254.88 1529.43 L1259.14 1529.43 L1259.14 1534.83 L1254.88 1534.83 L1254.88 1529.43 Z\" fill=\"#000000\" fill-rule=\"evenodd\" fill-opacity=\"1\" /><path clip-path=\"url(#clip040)\" d=\"M1288.23 1544.5 Q1289.83 1541.63 1292.05 1540.27 Q1294.28 1538.9 1297.28 1538.9 Q1301.34 1538.9 1303.53 1541.75 Q1305.73 1544.57 1305.73 1549.8 L1305.73 1565.45 L1301.45 1565.45 L1301.45 1549.94 Q1301.45 1546.22 1300.13 1544.41 Q1298.81 1542.6 1296.1 1542.6 Q1292.79 1542.6 1290.87 1544.8 Q1288.95 1547 1288.95 1550.8 L1288.95 1565.45 L1284.67 1565.45 L1284.67 1549.94 Q1284.67 1546.19 1283.35 1544.41 Q1282.03 1542.6 1279.28 1542.6 Q1276.01 1542.6 1274.09 1544.83 Q1272.17 1547.03 1272.17 1550.8 L1272.17 1565.45 L1267.89 1565.45 L1267.89 1539.53 L1272.17 1539.53 L1272.17 1543.55 Q1273.63 1541.17 1275.66 1540.04 Q1277.7 1538.9 1280.5 1538.9 Q1283.33 1538.9 1285.29 1540.34 Q1287.28 1541.77 1288.23 1544.5 Z\" fill=\"#000000\" fill-rule=\"evenodd\" fill-opacity=\"1\" /><path clip-path=\"url(#clip040)\" d=\"M1336.4 1551.42 L1336.4 1553.51 L1316.82 1553.51 Q1317.1 1557.91 1319.46 1560.22 Q1321.84 1562.51 1326.08 1562.51 Q1328.53 1562.51 1330.83 1561.91 Q1333.14 1561.31 1335.41 1560.1 L1335.41 1564.13 Q1333.12 1565.1 1330.71 1565.61 Q1328.3 1566.12 1325.83 1566.12 Q1319.62 1566.12 1315.99 1562.51 Q1312.38 1558.9 1312.38 1552.74 Q1312.38 1546.38 1315.8 1542.65 Q1319.25 1538.9 1325.09 1538.9 Q1330.32 1538.9 1333.35 1542.28 Q1336.4 1545.64 1336.4 1551.42 M1332.15 1550.17 Q1332.1 1546.68 1330.18 1544.6 Q1328.28 1542.51 1325.13 1542.51 Q1321.57 1542.51 1319.41 1544.53 Q1317.28 1546.54 1316.96 1550.2 L1332.15 1550.17 Z\" fill=\"#000000\" fill-rule=\"evenodd\" fill-opacity=\"1\" /><polyline clip-path=\"url(#clip042)\" style=\"stroke:#000000; stroke-linecap:round; stroke-linejoin:round; stroke-width:2; stroke-opacity:0.1; fill:none\" points=\"\n  206.42,1398.46 2352.76,1398.46 \n  \"/>\n<polyline clip-path=\"url(#clip042)\" style=\"stroke:#000000; stroke-linecap:round; stroke-linejoin:round; stroke-width:2; stroke-opacity:0.1; fill:none\" points=\"\n  206.42,1049.61 2352.76,1049.61 \n  \"/>\n<polyline clip-path=\"url(#clip042)\" style=\"stroke:#000000; stroke-linecap:round; stroke-linejoin:round; stroke-width:2; stroke-opacity:0.1; fill:none\" points=\"\n  206.42,700.753 2352.76,700.753 \n  \"/>\n<polyline clip-path=\"url(#clip042)\" style=\"stroke:#000000; stroke-linecap:round; stroke-linejoin:round; stroke-width:2; stroke-opacity:0.1; fill:none\" points=\"\n  206.42,351.898 2352.76,351.898 \n  \"/>\n<polyline clip-path=\"url(#clip040)\" style=\"stroke:#000000; stroke-linecap:round; stroke-linejoin:round; stroke-width:4; stroke-opacity:1; fill:none\" points=\"\n  206.42,1436.14 206.42,104.909 \n  \"/>\n<polyline clip-path=\"url(#clip040)\" style=\"stroke:#000000; stroke-linecap:round; stroke-linejoin:round; stroke-width:4; stroke-opacity:1; fill:none\" points=\"\n  206.42,1398.46 225.318,1398.46 \n  \"/>\n<polyline clip-path=\"url(#clip040)\" style=\"stroke:#000000; stroke-linecap:round; stroke-linejoin:round; stroke-width:4; stroke-opacity:1; fill:none\" points=\"\n  206.42,1049.61 225.318,1049.61 \n  \"/>\n<polyline clip-path=\"url(#clip040)\" style=\"stroke:#000000; stroke-linecap:round; stroke-linejoin:round; stroke-width:4; stroke-opacity:1; fill:none\" points=\"\n  206.42,700.753 225.318,700.753 \n  \"/>\n<polyline clip-path=\"url(#clip040)\" style=\"stroke:#000000; stroke-linecap:round; stroke-linejoin:round; stroke-width:4; stroke-opacity:1; fill:none\" points=\"\n  206.42,351.898 225.318,351.898 \n  \"/>\n<path clip-path=\"url(#clip040)\" d=\"M113.245 1384.26 Q109.633 1384.26 107.805 1387.83 Q105.999 1391.37 105.999 1398.5 Q105.999 1405.6 107.805 1409.17 Q109.633 1412.71 113.245 1412.71 Q116.879 1412.71 118.684 1409.17 Q120.513 1405.6 120.513 1398.5 Q120.513 1391.37 118.684 1387.83 Q116.879 1384.26 113.245 1384.26 M113.245 1380.56 Q119.055 1380.56 122.11 1385.16 Q125.189 1389.75 125.189 1398.5 Q125.189 1407.23 122.11 1411.83 Q119.055 1416.41 113.245 1416.41 Q107.434 1416.41 104.356 1411.83 Q101.3 1407.23 101.3 1398.5 Q101.3 1389.75 104.356 1385.16 Q107.434 1380.56 113.245 1380.56 Z\" fill=\"#000000\" fill-rule=\"evenodd\" fill-opacity=\"1\" /><path clip-path=\"url(#clip040)\" d=\"M133.406 1409.86 L138.291 1409.86 L138.291 1415.74 L133.406 1415.74 L133.406 1409.86 Z\" fill=\"#000000\" fill-rule=\"evenodd\" fill-opacity=\"1\" /><path clip-path=\"url(#clip040)\" d=\"M158.476 1384.26 Q154.865 1384.26 153.036 1387.83 Q151.23 1391.37 151.23 1398.5 Q151.23 1405.6 153.036 1409.17 Q154.865 1412.71 158.476 1412.71 Q162.11 1412.71 163.916 1409.17 Q165.744 1405.6 165.744 1398.5 Q165.744 1391.37 163.916 1387.83 Q162.11 1384.26 158.476 1384.26 M158.476 1380.56 Q164.286 1380.56 167.341 1385.16 Q170.42 1389.75 170.42 1398.5 Q170.42 1407.23 167.341 1411.83 Q164.286 1416.41 158.476 1416.41 Q152.666 1416.41 149.587 1411.83 Q146.531 1407.23 146.531 1398.5 Q146.531 1389.75 149.587 1385.16 Q152.666 1380.56 158.476 1380.56 Z\" fill=\"#000000\" fill-rule=\"evenodd\" fill-opacity=\"1\" /><path clip-path=\"url(#clip040)\" d=\"M114.24 1035.41 Q110.629 1035.41 108.8 1038.97 Q106.995 1042.51 106.995 1049.64 Q106.995 1056.75 108.8 1060.31 Q110.629 1063.86 114.24 1063.86 Q117.874 1063.86 119.68 1060.31 Q121.508 1056.75 121.508 1049.64 Q121.508 1042.51 119.68 1038.97 Q117.874 1035.41 114.24 1035.41 M114.24 1031.7 Q120.05 1031.7 123.106 1036.31 Q126.184 1040.89 126.184 1049.64 Q126.184 1058.37 123.106 1062.98 Q120.05 1067.56 114.24 1067.56 Q108.43 1067.56 105.351 1062.98 Q102.296 1058.37 102.296 1049.64 Q102.296 1040.89 105.351 1036.31 Q108.43 1031.7 114.24 1031.7 Z\" fill=\"#000000\" fill-rule=\"evenodd\" fill-opacity=\"1\" /><path clip-path=\"url(#clip040)\" d=\"M134.402 1061.01 L139.286 1061.01 L139.286 1066.89 L134.402 1066.89 L134.402 1061.01 Z\" fill=\"#000000\" fill-rule=\"evenodd\" fill-opacity=\"1\" /><path clip-path=\"url(#clip040)\" d=\"M149.517 1032.33 L167.874 1032.33 L167.874 1036.26 L153.8 1036.26 L153.8 1044.74 Q154.818 1044.39 155.837 1044.23 Q156.855 1044.04 157.874 1044.04 Q163.661 1044.04 167.041 1047.21 Q170.42 1050.38 170.42 1055.8 Q170.42 1061.38 166.948 1064.48 Q163.476 1067.56 157.156 1067.56 Q154.98 1067.56 152.712 1067.19 Q150.467 1066.82 148.059 1066.08 L148.059 1061.38 Q150.142 1062.51 152.365 1063.07 Q154.587 1063.62 157.064 1063.62 Q161.068 1063.62 163.406 1061.52 Q165.744 1059.41 165.744 1055.8 Q165.744 1052.19 163.406 1050.08 Q161.068 1047.98 157.064 1047.98 Q155.189 1047.98 153.314 1048.39 Q151.462 1048.81 149.517 1049.69 L149.517 1032.33 Z\" fill=\"#000000\" fill-rule=\"evenodd\" fill-opacity=\"1\" /><path clip-path=\"url(#clip040)\" d=\"M104.055 714.098 L111.694 714.098 L111.694 687.732 L103.383 689.399 L103.383 685.14 L111.647 683.473 L116.323 683.473 L116.323 714.098 L123.962 714.098 L123.962 718.033 L104.055 718.033 L104.055 714.098 Z\" fill=\"#000000\" fill-rule=\"evenodd\" fill-opacity=\"1\" /><path clip-path=\"url(#clip040)\" d=\"M133.406 712.154 L138.291 712.154 L138.291 718.033 L133.406 718.033 L133.406 712.154 Z\" fill=\"#000000\" fill-rule=\"evenodd\" fill-opacity=\"1\" /><path clip-path=\"url(#clip040)\" d=\"M158.476 686.552 Q154.865 686.552 153.036 690.117 Q151.23 693.658 151.23 700.788 Q151.23 707.894 153.036 711.459 Q154.865 715.001 158.476 715.001 Q162.11 715.001 163.916 711.459 Q165.744 707.894 165.744 700.788 Q165.744 693.658 163.916 690.117 Q162.11 686.552 158.476 686.552 M158.476 682.848 Q164.286 682.848 167.341 687.455 Q170.42 692.038 170.42 700.788 Q170.42 709.515 167.341 714.121 Q164.286 718.704 158.476 718.704 Q152.666 718.704 149.587 714.121 Q146.531 709.515 146.531 700.788 Q146.531 692.038 149.587 687.455 Q152.666 682.848 158.476 682.848 Z\" fill=\"#000000\" fill-rule=\"evenodd\" fill-opacity=\"1\" /><path clip-path=\"url(#clip040)\" d=\"M105.05 365.243 L112.689 365.243 L112.689 338.877 L104.379 340.544 L104.379 336.285 L112.643 334.618 L117.319 334.618 L117.319 365.243 L124.957 365.243 L124.957 369.178 L105.05 369.178 L105.05 365.243 Z\" fill=\"#000000\" fill-rule=\"evenodd\" fill-opacity=\"1\" /><path clip-path=\"url(#clip040)\" d=\"M134.402 363.298 L139.286 363.298 L139.286 369.178 L134.402 369.178 L134.402 363.298 Z\" fill=\"#000000\" fill-rule=\"evenodd\" fill-opacity=\"1\" /><path clip-path=\"url(#clip040)\" d=\"M149.517 334.618 L167.874 334.618 L167.874 338.553 L153.8 338.553 L153.8 347.025 Q154.818 346.678 155.837 346.516 Q156.855 346.331 157.874 346.331 Q163.661 346.331 167.041 349.502 Q170.42 352.673 170.42 358.09 Q170.42 363.669 166.948 366.771 Q163.476 369.849 157.156 369.849 Q154.98 369.849 152.712 369.479 Q150.467 369.109 148.059 368.368 L148.059 363.669 Q150.142 364.803 152.365 365.359 Q154.587 365.914 157.064 365.914 Q161.068 365.914 163.406 363.808 Q165.744 361.701 165.744 358.09 Q165.744 354.479 163.406 352.373 Q161.068 350.266 157.064 350.266 Q155.189 350.266 153.314 350.683 Q151.462 351.099 149.517 351.979 L149.517 334.618 Z\" fill=\"#000000\" fill-rule=\"evenodd\" fill-opacity=\"1\" /><path clip-path=\"url(#clip040)\" d=\"M23.0342 906.993 L27.9647 906.993 Q25.7656 909.354 24.6777 912.04 Q23.5897 914.702 23.5897 917.711 Q23.5897 923.637 27.224 926.785 Q30.8351 929.933 37.6869 929.933 Q44.5155 929.933 48.1498 926.785 Q51.7609 923.637 51.7609 917.711 Q51.7609 914.702 50.6729 912.04 Q49.585 909.354 47.3859 906.993 L52.2701 906.993 Q53.9368 909.447 54.7701 912.202 Q55.6035 914.933 55.6035 917.989 Q55.6035 925.836 50.8118 930.35 Q45.997 934.864 37.6869 934.864 Q29.3536 934.864 24.5619 930.35 Q19.7472 925.836 19.7472 917.989 Q19.7472 914.887 20.5805 912.155 Q21.3907 909.401 23.0342 906.993 Z\" fill=\"#000000\" fill-rule=\"evenodd\" fill-opacity=\"1\" /><path clip-path=\"url(#clip040)\" d=\"M31.9925 889.91 Q31.9925 893.336 34.6776 895.327 Q37.3397 897.318 41.9924 897.318 Q46.6452 897.318 49.3303 895.35 Q51.9924 893.359 51.9924 889.91 Q51.9924 886.507 49.3072 884.517 Q46.622 882.526 41.9924 882.526 Q37.386 882.526 34.7008 884.517 Q31.9925 886.507 31.9925 889.91 M28.3814 889.91 Q28.3814 884.355 31.9925 881.183 Q35.6036 878.012 41.9924 878.012 Q48.3581 878.012 51.9924 881.183 Q55.6035 884.355 55.6035 889.91 Q55.6035 895.489 51.9924 898.66 Q48.3581 901.808 41.9924 901.808 Q35.6036 901.808 31.9925 898.66 Q28.3814 895.489 28.3814 889.91 Z\" fill=\"#000000\" fill-rule=\"evenodd\" fill-opacity=\"1\" /><path clip-path=\"url(#clip040)\" d=\"M39.2841 849.401 L54.9322 849.401 L54.9322 853.66 L39.423 853.66 Q35.7424 853.66 33.9138 855.096 Q32.0851 856.531 32.0851 859.401 Q32.0851 862.85 34.2841 864.841 Q36.4832 866.832 40.2795 866.832 L54.9322 866.832 L54.9322 871.114 L29.0064 871.114 L29.0064 866.832 L33.0341 866.832 Q30.6962 865.304 29.5388 863.244 Q28.3814 861.16 28.3814 858.452 Q28.3814 853.984 31.1591 851.693 Q33.9138 849.401 39.2841 849.401 Z\" fill=\"#000000\" fill-rule=\"evenodd\" fill-opacity=\"1\" /><path clip-path=\"url(#clip040)\" d=\"M30.0017 822.248 L33.9832 822.248 Q32.9878 824.054 32.5017 825.883 Q31.9925 827.688 31.9925 829.54 Q31.9925 833.684 34.6313 835.975 Q37.2471 838.267 41.9924 838.267 Q46.7378 838.267 49.3766 835.975 Q51.9924 833.684 51.9924 829.54 Q51.9924 827.688 51.5062 825.883 Q50.997 824.054 50.0016 822.248 L53.9368 822.248 Q54.7701 824.031 55.1868 825.952 Q55.6035 827.85 55.6035 830.003 Q55.6035 835.859 51.9229 839.309 Q48.2424 842.758 41.9924 842.758 Q35.6499 842.758 32.0156 839.285 Q28.3814 835.79 28.3814 829.725 Q28.3814 827.758 28.798 825.883 Q29.1916 824.008 30.0017 822.248 Z\" fill=\"#000000\" fill-rule=\"evenodd\" fill-opacity=\"1\" /><path clip-path=\"url(#clip040)\" d=\"M40.9045 792.665 L42.9878 792.665 L42.9878 812.249 Q47.3859 811.971 49.7007 809.61 Q51.9924 807.225 51.9924 802.989 Q51.9924 800.536 51.3905 798.244 Q50.7887 795.929 49.585 793.661 L53.6127 793.661 Q54.5849 795.952 55.0942 798.36 Q55.6035 800.767 55.6035 803.244 Q55.6035 809.448 51.9924 813.082 Q48.3813 816.693 42.2239 816.693 Q35.8582 816.693 32.1314 813.267 Q28.3814 809.818 28.3814 803.985 Q28.3814 798.753 31.761 795.721 Q35.1174 792.665 40.9045 792.665 M39.6545 796.925 Q36.1591 796.971 34.0758 798.892 Q31.9925 800.79 31.9925 803.938 Q31.9925 807.503 34.0063 809.656 Q36.0202 811.786 39.6776 812.11 L39.6545 796.925 Z\" fill=\"#000000\" fill-rule=\"evenodd\" fill-opacity=\"1\" /><path clip-path=\"url(#clip040)\" d=\"M39.2841 764.124 L54.9322 764.124 L54.9322 768.383 L39.423 768.383 Q35.7424 768.383 33.9138 769.818 Q32.0851 771.253 32.0851 774.124 Q32.0851 777.573 34.2841 779.564 Q36.4832 781.554 40.2795 781.554 L54.9322 781.554 L54.9322 785.837 L29.0064 785.837 L29.0064 781.554 L33.0341 781.554 Q30.6962 780.026 29.5388 777.966 Q28.3814 775.883 28.3814 773.175 Q28.3814 768.707 31.1591 766.415 Q33.9138 764.124 39.2841 764.124 Z\" fill=\"#000000\" fill-rule=\"evenodd\" fill-opacity=\"1\" /><path clip-path=\"url(#clip040)\" d=\"M21.6453 751.416 L29.0064 751.416 L29.0064 742.642 L32.3165 742.642 L32.3165 751.416 L46.3905 751.416 Q49.5618 751.416 50.4646 750.559 Q51.3674 749.679 51.3674 747.017 L51.3674 742.642 L54.9322 742.642 L54.9322 747.017 Q54.9322 751.948 53.1035 753.823 Q51.2516 755.698 46.3905 755.698 L32.3165 755.698 L32.3165 758.823 L29.0064 758.823 L29.0064 755.698 L21.6453 755.698 L21.6453 751.416 Z\" fill=\"#000000\" fill-rule=\"evenodd\" fill-opacity=\"1\" /><path clip-path=\"url(#clip040)\" d=\"M32.9878 722.018 Q32.5712 722.735 32.386 723.592 Q32.1776 724.425 32.1776 725.443 Q32.1776 729.055 34.5387 730.999 Q36.8767 732.92 41.2748 732.92 L54.9322 732.92 L54.9322 737.203 L29.0064 737.203 L29.0064 732.92 L33.0341 732.92 Q30.673 731.578 29.5388 729.425 Q28.3814 727.272 28.3814 724.193 Q28.3814 723.754 28.4508 723.221 Q28.4971 722.689 28.6129 722.041 L32.9878 722.018 Z\" fill=\"#000000\" fill-rule=\"evenodd\" fill-opacity=\"1\" /><path clip-path=\"url(#clip040)\" d=\"M41.8998 705.768 Q41.8998 710.93 43.0804 712.92 Q44.2609 714.911 47.1081 714.911 Q49.3766 714.911 50.7192 713.43 Q52.0387 711.925 52.0387 709.356 Q52.0387 705.814 49.5387 703.684 Q47.0155 701.532 42.8489 701.532 L41.8998 701.532 L41.8998 705.768 M40.1406 697.272 L54.9322 697.272 L54.9322 701.532 L50.997 701.532 Q53.3581 702.99 54.4923 705.166 Q55.6035 707.342 55.6035 710.49 Q55.6035 714.471 53.3812 716.832 Q51.1359 719.17 47.3859 719.17 Q43.0109 719.17 40.7887 716.254 Q38.5665 713.314 38.5665 707.504 L38.5665 701.532 L38.1498 701.532 Q35.21 701.532 33.6128 703.476 Q31.9925 705.397 31.9925 708.893 Q31.9925 711.115 32.5249 713.221 Q33.0573 715.328 34.1221 717.272 L30.1869 717.272 Q29.2841 714.934 28.8443 712.735 Q28.3814 710.536 28.3814 708.453 Q28.3814 702.828 31.298 700.05 Q34.2147 697.272 40.1406 697.272 Z\" fill=\"#000000\" fill-rule=\"evenodd\" fill-opacity=\"1\" /><path clip-path=\"url(#clip040)\" d=\"M21.6453 684.286 L29.0064 684.286 L29.0064 675.513 L32.3165 675.513 L32.3165 684.286 L46.3905 684.286 Q49.5618 684.286 50.4646 683.43 Q51.3674 682.55 51.3674 679.888 L51.3674 675.513 L54.9322 675.513 L54.9322 679.888 Q54.9322 684.819 53.1035 686.694 Q51.2516 688.569 46.3905 688.569 L32.3165 688.569 L32.3165 691.694 L29.0064 691.694 L29.0064 688.569 L21.6453 688.569 L21.6453 684.286 Z\" fill=\"#000000\" fill-rule=\"evenodd\" fill-opacity=\"1\" /><path clip-path=\"url(#clip040)\" d=\"M29.0064 669.911 L29.0064 665.652 L54.9322 665.652 L54.9322 669.911 L29.0064 669.911 M18.9138 669.911 L18.9138 665.652 L24.3073 665.652 L24.3073 669.911 L18.9138 669.911 Z\" fill=\"#000000\" fill-rule=\"evenodd\" fill-opacity=\"1\" /><path clip-path=\"url(#clip040)\" d=\"M31.9925 646.694 Q31.9925 650.12 34.6776 652.11 Q37.3397 654.101 41.9924 654.101 Q46.6452 654.101 49.3303 652.134 Q51.9924 650.143 51.9924 646.694 Q51.9924 643.291 49.3072 641.3 Q46.622 639.31 41.9924 639.31 Q37.386 639.31 34.7008 641.3 Q31.9925 643.291 31.9925 646.694 M28.3814 646.694 Q28.3814 641.138 31.9925 637.967 Q35.6036 634.796 41.9924 634.796 Q48.3581 634.796 51.9924 637.967 Q55.6035 641.138 55.6035 646.694 Q55.6035 652.273 51.9924 655.444 Q48.3581 658.592 41.9924 658.592 Q35.6036 658.592 31.9925 655.444 Q28.3814 652.273 28.3814 646.694 Z\" fill=\"#000000\" fill-rule=\"evenodd\" fill-opacity=\"1\" /><path clip-path=\"url(#clip040)\" d=\"M39.2841 606.185 L54.9322 606.185 L54.9322 610.444 L39.423 610.444 Q35.7424 610.444 33.9138 611.879 Q32.0851 613.314 32.0851 616.185 Q32.0851 619.634 34.2841 621.625 Q36.4832 623.615 40.2795 623.615 L54.9322 623.615 L54.9322 627.898 L29.0064 627.898 L29.0064 623.615 L33.0341 623.615 Q30.6962 622.087 29.5388 620.027 Q28.3814 617.944 28.3814 615.236 Q28.3814 610.768 31.1591 608.476 Q33.9138 606.185 39.2841 606.185 Z\" fill=\"#000000\" fill-rule=\"evenodd\" fill-opacity=\"1\" /><g clip-path=\"url(#clip040)\">\n<text style=\"fill:#000000; fill-opacity:1; font-family:Arial,Helvetica Neue,Helvetica,sans-serif; font-size:59px; font-weight:bold; text-anchor:middle;\" transform=\"rotate(0, 1279.59, 51.6)\" x=\"1279.59\" y=\"51.6\">Steady-State Evolution of Chemical System towards 0.3</text>\n</g>\n<polyline clip-path=\"url(#clip042)\" style=\"stroke:#009af9; stroke-linecap:round; stroke-linejoin:round; stroke-width:8; stroke-opacity:1; fill:none\" points=\"\n  206.42,142.585 208.569,177.931 210.717,212.029 212.866,244.945 215.014,276.738 217.163,307.462 219.311,337.169 221.46,365.904 223.608,393.709 225.757,420.624 \n  227.905,446.684 230.053,471.922 232.202,496.367 234.35,520.048 236.499,542.992 238.647,565.222 240.796,586.762 242.944,607.634 245.093,627.859 247.241,647.456 \n  249.39,666.444 251.538,684.842 253.687,702.667 255.835,719.935 257.984,736.663 260.132,752.868 262.281,768.563 264.429,783.764 266.578,798.485 268.726,812.74 \n  270.875,826.542 273.023,839.905 275.172,852.841 277.32,865.364 279.469,877.484 281.617,889.214 283.766,900.566 285.914,911.55 288.063,922.177 290.211,932.458 \n  292.36,942.403 294.508,952.022 296.656,961.325 298.805,970.321 300.953,979.02 303.102,987.431 305.25,995.561 307.399,1003.42 309.547,1011.02 311.696,1018.36 \n  313.844,1025.45 315.993,1032.3 318.141,1038.92 320.29,1045.32 322.438,1051.5 324.587,1057.46 326.735,1063.22 328.884,1068.78 331.032,1074.15 333.181,1079.33 \n  335.329,1084.33 337.478,1089.15 339.626,1093.81 341.775,1098.3 343.923,1102.63 346.072,1106.8 348.22,1110.83 350.369,1114.71 352.517,1118.45 354.666,1122.05 \n  356.814,1125.52 358.963,1128.87 361.111,1132.09 363.26,1135.19 365.408,1138.18 367.556,1141.05 369.705,1143.81 371.853,1146.47 374.002,1149.03 376.15,1151.49 \n  378.299,1153.85 380.447,1156.12 382.596,1158.3 384.744,1160.4 386.893,1162.41 389.041,1164.34 391.19,1166.19 393.338,1167.97 395.487,1169.67 397.635,1171.3 \n  399.784,1172.86 401.932,1174.36 404.081,1175.79 406.229,1177.17 408.378,1178.48 410.526,1179.73 412.675,1180.92 414.823,1182.07 416.972,1183.16 419.12,1184.2 \n  421.269,1185.19 423.417,1186.13 425.566,1187.03 427.714,1187.88 429.863,1188.69 432.011,1189.47 434.159,1190.2 436.308,1190.89 438.456,1191.55 440.605,1192.17 \n  442.753,1192.76 444.902,1193.31 447.05,1193.83 449.199,1194.32 451.347,1194.78 453.496,1195.22 455.644,1195.62 457.793,1196 459.941,1196.36 462.09,1196.69 \n  464.238,1196.99 466.387,1197.28 468.535,1197.54 470.684,1197.78 472.832,1198 474.981,1198.21 477.129,1198.39 479.278,1198.56 481.426,1198.71 483.575,1198.84 \n  485.723,1198.96 487.872,1199.06 490.02,1199.15 492.169,1199.23 494.317,1199.29 496.466,1199.34 498.614,1199.38 500.762,1199.4 502.911,1199.42 505.059,1199.43 \n  507.208,1199.42 509.356,1199.41 511.505,1199.39 513.653,1199.36 515.802,1199.32 517.95,1199.27 520.099,1199.22 522.247,1199.16 524.396,1199.1 526.544,1199.03 \n  528.693,1198.95 530.841,1198.87 532.99,1198.78 535.138,1198.69 537.287,1198.59 539.435,1198.49 541.584,1198.39 543.732,1198.28 545.881,1198.17 548.029,1198.06 \n  550.178,1197.95 552.326,1197.83 554.475,1197.71 556.623,1197.59 558.772,1197.46 560.92,1197.34 563.069,1197.21 565.217,1197.08 567.366,1196.95 569.514,1196.82 \n  571.662,1196.69 573.811,1196.56 575.959,1196.43 578.108,1196.29 580.256,1196.16 582.405,1196.03 584.553,1195.9 586.702,1195.77 588.85,1195.64 590.999,1195.5 \n  593.147,1195.37 595.296,1195.25 597.444,1195.12 599.593,1194.99 601.741,1194.86 603.89,1194.74 606.038,1194.61 608.187,1194.49 610.335,1194.36 612.484,1194.24 \n  614.632,1194.12 616.781,1194 618.929,1193.88 621.078,1193.77 623.226,1193.65 625.375,1193.54 627.523,1193.43 629.672,1193.31 631.82,1193.21 633.969,1193.1 \n  636.117,1192.99 638.265,1192.89 640.414,1192.79 642.562,1192.68 644.711,1192.58 646.859,1192.49 649.008,1192.39 651.156,1192.3 653.305,1192.21 655.453,1192.12 \n  657.602,1192.03 659.75,1191.94 661.899,1191.85 664.047,1191.77 666.196,1191.69 668.344,1191.61 670.493,1191.53 672.641,1191.45 674.79,1191.38 676.938,1191.31 \n  679.087,1191.23 681.235,1191.16 683.384,1191.09 685.532,1191.03 687.681,1190.96 689.829,1190.9 691.978,1190.83 694.126,1190.77 696.275,1190.71 698.423,1190.65 \n  700.572,1190.6 702.72,1190.54 704.868,1190.49 707.017,1190.43 709.165,1190.38 711.314,1190.33 713.462,1190.29 715.611,1190.24 717.759,1190.19 719.908,1190.15 \n  722.056,1190.1 724.205,1190.06 726.353,1190.02 728.502,1189.98 730.65,1189.94 732.799,1189.91 734.947,1189.87 737.096,1189.84 739.244,1189.8 741.393,1189.77 \n  743.541,1189.74 745.69,1189.71 747.838,1189.68 749.987,1189.65 752.135,1189.63 754.284,1189.6 756.432,1189.57 758.581,1189.55 760.729,1189.52 762.878,1189.5 \n  765.026,1189.48 767.175,1189.46 769.323,1189.44 771.472,1189.42 773.62,1189.4 775.768,1189.38 777.917,1189.36 780.065,1189.34 782.214,1189.33 784.362,1189.31 \n  786.511,1189.29 788.659,1189.28 790.808,1189.27 792.956,1189.25 795.105,1189.24 797.253,1189.23 799.402,1189.21 801.55,1189.2 803.699,1189.19 805.847,1189.18 \n  807.996,1189.17 810.144,1189.16 812.293,1189.15 814.441,1189.14 816.59,1189.14 818.738,1189.13 820.887,1189.12 823.035,1189.12 825.184,1189.11 827.332,1189.1 \n  829.481,1189.1 831.629,1189.09 833.778,1189.09 835.926,1189.08 838.075,1189.08 840.223,1189.08 842.371,1189.07 844.52,1189.07 846.668,1189.06 848.817,1189.06 \n  850.965,1189.06 853.114,1189.06 855.262,1189.05 857.411,1189.05 859.559,1189.05 861.708,1189.05 863.856,1189.05 866.005,1189.05 868.153,1189.04 870.302,1189.04 \n  872.45,1189.04 874.599,1189.04 876.747,1189.04 878.896,1189.04 881.044,1189.04 883.193,1189.04 885.341,1189.04 887.49,1189.04 889.638,1189.04 891.787,1189.04 \n  893.935,1189.04 896.084,1189.04 898.232,1189.04 900.381,1189.04 902.529,1189.04 904.678,1189.04 906.826,1189.04 908.975,1189.04 911.123,1189.04 913.271,1189.04 \n  915.42,1189.05 917.568,1189.05 919.717,1189.05 921.865,1189.05 924.014,1189.05 926.162,1189.05 928.311,1189.05 930.459,1189.05 932.608,1189.06 934.756,1189.06 \n  936.905,1189.06 939.053,1189.06 941.202,1189.06 943.35,1189.06 945.499,1189.06 947.647,1189.06 949.796,1189.07 951.944,1189.07 954.093,1189.07 956.241,1189.07 \n  958.39,1189.07 960.538,1189.07 962.687,1189.08 964.835,1189.08 966.984,1189.08 969.132,1189.08 971.281,1189.08 973.429,1189.08 975.578,1189.08 977.726,1189.09 \n  979.874,1189.09 982.023,1189.09 984.171,1189.09 986.32,1189.09 988.468,1189.09 990.617,1189.09 992.765,1189.1 994.914,1189.1 997.062,1189.1 999.211,1189.1 \n  1001.36,1189.1 1003.51,1189.1 1005.66,1189.1 1007.8,1189.1 1009.95,1189.11 1012.1,1189.11 1014.25,1189.11 1016.4,1189.11 1018.55,1189.11 1020.7,1189.11 \n  1022.84,1189.11 1024.99,1189.11 1027.14,1189.11 1029.29,1189.12 1031.44,1189.12 1033.59,1189.12 1035.74,1189.12 1037.88,1189.12 1040.03,1189.12 1042.18,1189.12 \n  1044.33,1189.12 1046.48,1189.12 1048.63,1189.12 1050.77,1189.13 1052.92,1189.13 1055.07,1189.13 1057.22,1189.13 1059.37,1189.13 1061.52,1189.13 1063.67,1189.13 \n  1065.81,1189.13 1067.96,1189.13 1070.11,1189.13 1072.26,1189.13 1074.41,1189.13 1076.56,1189.13 1078.7,1189.13 1080.85,1189.13 1083,1189.14 1085.15,1189.14 \n  1087.3,1189.14 1089.45,1189.14 1091.6,1189.14 1093.74,1189.14 1095.89,1189.14 1098.04,1189.14 1100.19,1189.14 1102.34,1189.14 1104.49,1189.14 1106.64,1189.14 \n  1108.78,1189.14 1110.93,1189.14 1113.08,1189.14 1115.23,1189.14 1117.38,1189.14 1119.53,1189.14 1121.67,1189.14 1123.82,1189.14 1125.97,1189.14 1128.12,1189.14 \n  1130.27,1189.15 1132.42,1189.15 1134.57,1189.15 1136.71,1189.15 1138.86,1189.15 1141.01,1189.15 1143.16,1189.15 1145.31,1189.15 1147.46,1189.15 1149.6,1189.15 \n  1151.75,1189.15 1153.9,1189.15 1156.05,1189.15 1158.2,1189.15 1160.35,1189.15 1162.5,1189.15 1164.64,1189.15 1166.79,1189.15 1168.94,1189.15 1171.09,1189.15 \n  1173.24,1189.15 1175.39,1189.15 1177.54,1189.15 1179.68,1189.15 1181.83,1189.15 1183.98,1189.15 1186.13,1189.15 1188.28,1189.15 1190.43,1189.15 1192.57,1189.15 \n  1194.72,1189.15 1196.87,1189.15 1199.02,1189.15 1201.17,1189.15 1203.32,1189.15 1205.47,1189.15 1207.61,1189.15 1209.76,1189.15 1211.91,1189.15 1214.06,1189.15 \n  1216.21,1189.15 1218.36,1189.15 1220.5,1189.15 1222.65,1189.15 1224.8,1189.15 1226.95,1189.15 1229.1,1189.15 1231.25,1189.15 1233.4,1189.15 1235.54,1189.15 \n  1237.69,1189.15 1239.84,1189.15 1241.99,1189.15 1244.14,1189.15 1246.29,1189.15 1248.44,1189.15 1250.58,1189.15 1252.73,1189.15 1254.88,1189.15 1257.03,1189.15 \n  1259.18,1189.15 1261.33,1189.15 1263.47,1189.15 1265.62,1189.15 1267.77,1189.15 1269.92,1189.15 1272.07,1189.15 1274.22,1189.15 1276.37,1189.15 1278.51,1189.15 \n  1280.66,1189.15 1282.81,1189.15 1284.96,1189.15 1287.11,1189.15 1289.26,1189.15 1291.4,1189.15 1293.55,1189.15 1295.7,1189.15 1297.85,1189.15 1300,1189.15 \n  1302.15,1189.15 1304.3,1189.15 1306.44,1189.15 1308.59,1189.15 1310.74,1189.15 1312.89,1189.15 1315.04,1189.15 1317.19,1189.15 1319.33,1189.15 1321.48,1189.15 \n  1323.63,1189.15 1325.78,1189.15 1327.93,1189.15 1330.08,1189.15 1332.23,1189.15 1334.37,1189.15 1336.52,1189.15 1338.67,1189.15 1340.82,1189.15 1342.97,1189.15 \n  1345.12,1189.15 1347.27,1189.15 1349.41,1189.15 1351.56,1189.15 1353.71,1189.15 1355.86,1189.15 1358.01,1189.15 1360.16,1189.15 1362.3,1189.15 1364.45,1189.15 \n  1366.6,1189.15 1368.75,1189.15 1370.9,1189.15 1373.05,1189.15 1375.2,1189.15 1377.34,1189.15 1379.49,1189.15 1381.64,1189.15 1383.79,1189.15 1385.94,1189.15 \n  1388.09,1189.16 1390.23,1189.16 1392.38,1189.16 1394.53,1189.16 1396.68,1189.16 1398.83,1189.16 1400.98,1189.16 1403.13,1189.16 1405.27,1189.16 1407.42,1189.17 \n  1409.57,1189.17 1411.72,1189.17 1413.87,1189.17 1416.02,1189.17 1418.17,1189.17 1420.31,1189.17 1422.46,1189.17 1424.61,1189.17 1426.76,1189.17 1428.91,1189.18 \n  1431.06,1189.18 1433.2,1189.18 1435.35,1189.18 1437.5,1189.18 1439.65,1189.18 1441.8,1189.18 1443.95,1189.18 1446.1,1189.18 1448.24,1189.18 1450.39,1189.18 \n  1452.54,1189.18 1454.69,1189.18 1456.84,1189.18 1458.99,1189.18 1461.13,1189.18 1463.28,1189.18 1465.43,1189.18 1467.58,1189.18 1469.73,1189.18 1471.88,1189.18 \n  1474.03,1189.18 1476.17,1189.18 1478.32,1189.18 1480.47,1189.18 1482.62,1189.18 1484.77,1189.18 1486.92,1189.18 1489.07,1189.17 1491.21,1189.17 1493.36,1189.17 \n  1495.51,1189.17 1497.66,1189.17 1499.81,1189.17 1501.96,1189.17 1504.1,1189.17 1506.25,1189.16 1508.4,1189.16 1510.55,1189.16 1512.7,1189.16 1514.85,1189.16 \n  1517,1189.16 1519.14,1189.15 1521.29,1189.15 1523.44,1189.15 1525.59,1189.15 1527.74,1189.15 1529.89,1189.14 1532.03,1189.14 1534.18,1189.14 1536.33,1189.14 \n  1538.48,1189.14 1540.63,1189.13 1542.78,1189.13 1544.93,1189.13 1547.07,1189.13 1549.22,1189.13 1551.37,1189.13 1553.52,1189.13 1555.67,1189.12 1557.82,1189.12 \n  1559.97,1189.12 1562.11,1189.12 1564.26,1189.12 1566.41,1189.12 1568.56,1189.12 1570.71,1189.12 1572.86,1189.12 1575,1189.12 1577.15,1189.12 1579.3,1189.12 \n  1581.45,1189.12 1583.6,1189.12 1585.75,1189.12 1587.9,1189.12 1590.04,1189.12 1592.19,1189.12 1594.34,1189.12 1596.49,1189.13 1598.64,1189.13 1600.79,1189.13 \n  1602.93,1189.14 1605.08,1189.14 1607.23,1189.15 1609.38,1189.15 1611.53,1189.16 1613.68,1189.16 1615.83,1189.17 1617.97,1189.18 1620.12,1189.18 1622.27,1189.19 \n  1624.42,1189.2 1626.57,1189.2 1628.72,1189.21 1630.87,1189.22 1633.01,1189.22 1635.16,1189.23 1637.31,1189.23 1639.46,1189.24 1641.61,1189.24 1643.76,1189.25 \n  1645.9,1189.25 1648.05,1189.25 1650.2,1189.26 1652.35,1189.26 1654.5,1189.26 1656.65,1189.26 1658.8,1189.26 1660.94,1189.26 1663.09,1189.26 1665.24,1189.26 \n  1667.39,1189.26 1669.54,1189.26 1671.69,1189.26 1673.83,1189.25 1675.98,1189.25 1678.13,1189.25 1680.28,1189.24 1682.43,1189.24 1684.58,1189.23 1686.73,1189.22 \n  1688.87,1189.22 1691.02,1189.21 1693.17,1189.2 1695.32,1189.2 1697.47,1189.19 1699.62,1189.18 1701.77,1189.17 1703.91,1189.16 1706.06,1189.16 1708.21,1189.15 \n  1710.36,1189.14 1712.51,1189.13 1714.66,1189.12 1716.8,1189.11 1718.95,1189.1 1721.1,1189.1 1723.25,1189.09 1725.4,1189.08 1727.55,1189.07 1729.7,1189.06 \n  1731.84,1189.06 1733.99,1189.05 1736.14,1189.05 1738.29,1189.04 1740.44,1189.04 1742.59,1189.04 1744.73,1189.03 1746.88,1189.03 1749.03,1189.03 1751.18,1189.04 \n  1753.33,1189.04 1755.48,1189.04 1757.63,1189.05 1759.77,1189.06 1761.92,1189.07 1764.07,1189.07 1766.22,1189.08 1768.37,1189.09 1770.52,1189.11 1772.67,1189.12 \n  1774.81,1189.13 1776.96,1189.14 1779.11,1189.15 1781.26,1189.16 1783.41,1189.17 1785.56,1189.18 1787.7,1189.19 1789.85,1189.2 1792,1189.21 1794.15,1189.22 \n  1796.3,1189.23 1798.45,1189.23 1800.6,1189.24 1802.74,1189.25 1804.89,1189.25 1807.04,1189.26 1809.19,1189.26 1811.34,1189.26 1813.49,1189.26 1815.63,1189.26 \n  1817.78,1189.26 1819.93,1189.26 1822.08,1189.26 1824.23,1189.26 1826.38,1189.25 1828.53,1189.25 1830.67,1189.24 1832.82,1189.23 1834.97,1189.23 1837.12,1189.22 \n  1839.27,1189.21 1841.42,1189.2 1843.57,1189.19 1845.71,1189.18 1847.86,1189.17 1850.01,1189.16 1852.16,1189.15 1854.31,1189.14 1856.46,1189.13 1858.6,1189.11 \n  1860.75,1189.1 1862.9,1189.09 1865.05,1189.08 1867.2,1189.07 1869.35,1189.06 1871.5,1189.05 1873.64,1189.04 1875.79,1189.04 1877.94,1189.03 1880.09,1189.03 \n  1882.24,1189.02 1884.39,1189.02 1886.53,1189.02 1888.68,1189.03 1890.83,1189.03 1892.98,1189.04 1895.13,1189.05 1897.28,1189.05 1899.43,1189.06 1901.57,1189.07 \n  1903.72,1189.08 1905.87,1189.09 1908.02,1189.1 1910.17,1189.11 1912.32,1189.12 1914.47,1189.12 1916.61,1189.13 1918.76,1189.14 1920.91,1189.15 1923.06,1189.16 \n  1925.21,1189.16 1927.36,1189.17 1929.5,1189.18 1931.65,1189.18 1933.8,1189.19 1935.95,1189.19 1938.1,1189.2 1940.25,1189.2 1942.4,1189.2 1944.54,1189.2 \n  1946.69,1189.2 1948.84,1189.2 1950.99,1189.2 1953.14,1189.2 1955.29,1189.2 1957.43,1189.2 1959.58,1189.19 1961.73,1189.19 1963.88,1189.19 1966.03,1189.18 \n  1968.18,1189.18 1970.33,1189.17 1972.47,1189.16 1974.62,1189.16 1976.77,1189.15 1978.92,1189.14 1981.07,1189.14 1983.22,1189.13 1985.37,1189.12 1987.51,1189.12 \n  1989.66,1189.11 1991.81,1189.1 1993.96,1189.1 1996.11,1189.09 1998.26,1189.09 2000.4,1189.08 2002.55,1189.08 2004.7,1189.08 2006.85,1189.07 2009,1189.07 \n  2011.15,1189.07 2013.3,1189.08 2015.44,1189.08 2017.59,1189.09 2019.74,1189.09 2021.89,1189.1 2024.04,1189.1 2026.19,1189.11 2028.33,1189.11 2030.48,1189.12 \n  2032.63,1189.12 2034.78,1189.13 2036.93,1189.13 2039.08,1189.14 2041.23,1189.14 2043.37,1189.15 2045.52,1189.15 2047.67,1189.16 2049.82,1189.16 2051.97,1189.16 \n  2054.12,1189.17 2056.27,1189.17 2058.41,1189.17 2060.56,1189.17 2062.71,1189.18 2064.86,1189.18 2067.01,1189.18 2069.16,1189.18 2071.3,1189.18 2073.45,1189.18 \n  2075.6,1189.18 2077.75,1189.18 2079.9,1189.17 2082.05,1189.17 2084.2,1189.17 2086.34,1189.17 2088.49,1189.17 2090.64,1189.16 2092.79,1189.16 2094.94,1189.16 \n  2097.09,1189.15 2099.23,1189.15 2101.38,1189.15 2103.53,1189.14 2105.68,1189.14 2107.83,1189.13 2109.98,1189.13 2112.13,1189.13 2114.27,1189.12 2116.42,1189.12 \n  2118.57,1189.12 2120.72,1189.11 2122.87,1189.11 2125.02,1189.11 2127.17,1189.11 2129.31,1189.11 2131.46,1189.11 2133.61,1189.11 2135.76,1189.11 2137.91,1189.11 \n  2140.06,1189.12 2142.2,1189.12 2144.35,1189.12 2146.5,1189.13 2148.65,1189.13 2150.8,1189.13 2152.95,1189.14 2155.1,1189.14 2157.24,1189.14 2159.39,1189.14 \n  2161.54,1189.15 2163.69,1189.15 2165.84,1189.15 2167.99,1189.16 2170.13,1189.16 2172.28,1189.16 2174.43,1189.16 2176.58,1189.16 2178.73,1189.17 2180.88,1189.17 \n  2183.03,1189.17 2185.17,1189.17 2187.32,1189.17 2189.47,1189.17 2191.62,1189.17 2193.77,1189.17 2195.92,1189.17 2198.07,1189.17 2200.21,1189.17 2202.36,1189.17 \n  2204.51,1189.17 2206.66,1189.17 2208.81,1189.16 2210.96,1189.16 2213.1,1189.16 2215.25,1189.16 2217.4,1189.16 2219.55,1189.15 2221.7,1189.15 2223.85,1189.15 \n  2226,1189.15 2228.14,1189.14 2230.29,1189.14 2232.44,1189.14 2234.59,1189.14 2236.74,1189.13 2238.89,1189.13 2241.03,1189.13 2243.18,1189.13 2245.33,1189.13 \n  2247.48,1189.12 2249.63,1189.12 2251.78,1189.12 2253.93,1189.12 2256.07,1189.12 2258.22,1189.12 2260.37,1189.13 2262.52,1189.13 2264.67,1189.13 2266.82,1189.13 \n  2268.97,1189.13 2271.11,1189.13 2273.26,1189.13 2275.41,1189.13 2277.56,1189.14 2279.71,1189.14 2281.86,1189.14 2284,1189.14 2286.15,1189.14 2288.3,1189.14 \n  2290.45,1189.14 2292.6,1189.14 2294.75,1189.14 2296.9,1189.14 2299.04,1189.14 2301.19,1189.15 2303.34,1189.15 2305.49,1189.15 2307.64,1189.15 2309.79,1189.15 \n  2311.93,1189.15 2314.08,1189.15 2316.23,1189.15 2318.38,1189.15 2320.53,1189.15 2322.68,1189.15 2324.83,1189.15 2326.97,1189.15 2329.12,1189.15 2331.27,1189.15 \n  2333.42,1189.15 2335.57,1189.15 2337.72,1189.15 2339.87,1189.15 2342.01,1189.15 2344.16,1189.15 2346.31,1189.15 2348.46,1189.15 2350.61,1189.15 2352.76,1189.15 \n  \n  \"/>\n<polyline clip-path=\"url(#clip042)\" style=\"stroke:#e26f46; stroke-linecap:round; stroke-linejoin:round; stroke-width:8; stroke-opacity:1; fill:none\" points=\"\n  206.42,1398.46 208.569,1353.99 210.717,1312.36 212.866,1273.43 215.014,1237.06 217.163,1203.12 219.311,1171.48 221.46,1142.03 223.608,1114.65 225.757,1089.24 \n  227.905,1065.69 230.053,1043.91 232.202,1023.81 234.35,1005.29 236.499,988.275 238.647,972.682 240.796,958.435 242.944,945.462 245.093,933.692 247.241,923.061 \n  249.39,913.505 251.538,904.963 253.687,897.379 255.835,890.697 257.984,884.867 260.132,879.837 262.281,875.561 264.429,871.992 266.578,869.09 268.726,866.812 \n  270.875,865.12 273.023,863.977 275.172,863.348 277.32,863.198 279.469,863.496 281.617,864.211 283.766,865.315 285.914,866.78 288.063,868.581 290.211,870.693 \n  292.36,873.093 294.508,875.759 296.656,878.668 298.805,881.801 300.953,885.139 303.102,888.664 305.25,892.359 307.399,896.208 309.547,900.197 311.696,904.311 \n  313.844,908.538 315.993,912.863 318.141,917.275 320.29,921.762 322.438,926.314 324.587,930.92 326.735,935.57 328.884,940.256 331.032,944.97 333.181,949.703 \n  335.329,954.45 337.478,959.203 339.626,963.956 341.775,968.703 343.923,973.438 346.072,978.156 348.22,982.852 350.369,987.521 352.517,992.159 354.666,996.762 \n  356.814,1001.33 358.963,1005.85 361.111,1010.32 363.26,1014.75 365.408,1019.13 367.556,1023.46 369.705,1027.74 371.853,1031.95 374.002,1036.11 376.15,1040.22 \n  378.299,1044.26 380.447,1048.24 382.596,1052.15 384.744,1056.01 386.893,1059.79 389.041,1063.52 391.19,1067.17 393.338,1070.76 395.487,1074.28 397.635,1077.74 \n  399.784,1081.13 401.932,1084.45 404.081,1087.7 406.229,1090.89 408.378,1094.01 410.526,1097.07 412.675,1100.06 414.823,1102.99 416.972,1105.85 419.12,1108.65 \n  421.269,1111.38 423.417,1114.05 425.566,1116.66 427.714,1119.2 429.863,1121.68 432.011,1124.11 434.159,1126.47 436.308,1128.77 438.456,1131.01 440.605,1133.19 \n  442.753,1135.32 444.902,1137.4 447.05,1139.41 449.199,1141.38 451.347,1143.29 453.496,1145.15 455.644,1146.95 457.793,1148.71 459.941,1150.42 462.09,1152.07 \n  464.238,1153.68 466.387,1155.24 468.535,1156.76 470.684,1158.23 472.832,1159.66 474.981,1161.04 477.129,1162.37 479.278,1163.67 481.426,1164.93 483.575,1166.14 \n  485.723,1167.32 487.872,1168.46 490.02,1169.56 492.169,1170.62 494.317,1171.65 496.466,1172.64 498.614,1173.6 500.762,1174.53 502.911,1175.42 505.059,1176.28 \n  507.208,1177.12 509.356,1177.92 511.505,1178.69 513.653,1179.43 515.802,1180.15 517.95,1180.84 520.099,1181.5 522.247,1182.14 524.396,1182.75 526.544,1183.33 \n  528.693,1183.9 530.841,1184.43 532.99,1184.95 535.138,1185.45 537.287,1185.92 539.435,1186.37 541.584,1186.81 543.732,1187.22 545.881,1187.61 548.029,1187.99 \n  550.178,1188.35 552.326,1188.69 554.475,1189.02 556.623,1189.33 558.772,1189.62 560.92,1189.9 563.069,1190.17 565.217,1190.42 567.366,1190.66 569.514,1190.88 \n  571.662,1191.09 573.811,1191.29 575.959,1191.48 578.108,1191.65 580.256,1191.82 582.405,1191.97 584.553,1192.12 586.702,1192.25 588.85,1192.37 590.999,1192.49 \n  593.147,1192.59 595.296,1192.69 597.444,1192.78 599.593,1192.86 601.741,1192.94 603.89,1193 606.038,1193.06 608.187,1193.11 610.335,1193.16 612.484,1193.2 \n  614.632,1193.24 616.781,1193.27 618.929,1193.29 621.078,1193.31 623.226,1193.32 625.375,1193.33 627.523,1193.34 629.672,1193.34 631.82,1193.34 633.969,1193.33 \n  636.117,1193.32 638.265,1193.31 640.414,1193.29 642.562,1193.27 644.711,1193.25 646.859,1193.22 649.008,1193.2 651.156,1193.16 653.305,1193.13 655.453,1193.1 \n  657.602,1193.06 659.75,1193.02 661.899,1192.98 664.047,1192.94 666.196,1192.9 668.344,1192.85 670.493,1192.8 672.641,1192.76 674.79,1192.71 676.938,1192.66 \n  679.087,1192.61 681.235,1192.56 683.384,1192.51 685.532,1192.46 687.681,1192.4 689.829,1192.35 691.978,1192.3 694.126,1192.24 696.275,1192.19 698.423,1192.13 \n  700.572,1192.08 702.72,1192.03 704.868,1191.97 707.017,1191.92 709.165,1191.86 711.314,1191.81 713.462,1191.76 715.611,1191.7 717.759,1191.65 719.908,1191.6 \n  722.056,1191.54 724.205,1191.49 726.353,1191.44 728.502,1191.39 730.65,1191.34 732.799,1191.28 734.947,1191.24 737.096,1191.19 739.244,1191.14 741.393,1191.09 \n  743.541,1191.04 745.69,1190.99 747.838,1190.95 749.987,1190.9 752.135,1190.86 754.284,1190.81 756.432,1190.77 758.581,1190.73 760.729,1190.68 762.878,1190.64 \n  765.026,1190.6 767.175,1190.56 769.323,1190.52 771.472,1190.48 773.62,1190.44 775.768,1190.4 777.917,1190.37 780.065,1190.33 782.214,1190.29 784.362,1190.26 \n  786.511,1190.22 788.659,1190.19 790.808,1190.16 792.956,1190.12 795.105,1190.09 797.253,1190.06 799.402,1190.03 801.55,1190 803.699,1189.97 805.847,1189.94 \n  807.996,1189.91 810.144,1189.89 812.293,1189.86 814.441,1189.84 816.59,1189.81 818.738,1189.79 820.887,1189.76 823.035,1189.74 825.184,1189.72 827.332,1189.7 \n  829.481,1189.67 831.629,1189.65 833.778,1189.63 835.926,1189.61 838.075,1189.6 840.223,1189.58 842.371,1189.56 844.52,1189.54 846.668,1189.53 848.817,1189.51 \n  850.965,1189.49 853.114,1189.48 855.262,1189.46 857.411,1189.45 859.559,1189.43 861.708,1189.42 863.856,1189.41 866.005,1189.39 868.153,1189.38 870.302,1189.37 \n  872.45,1189.36 874.599,1189.35 876.747,1189.33 878.896,1189.32 881.044,1189.31 883.193,1189.3 885.341,1189.29 887.49,1189.28 889.638,1189.28 891.787,1189.27 \n  893.935,1189.26 896.084,1189.25 898.232,1189.24 900.381,1189.23 902.529,1189.23 904.678,1189.22 906.826,1189.21 908.975,1189.21 911.123,1189.2 913.271,1189.19 \n  915.42,1189.19 917.568,1189.18 919.717,1189.18 921.865,1189.17 924.014,1189.17 926.162,1189.17 928.311,1189.16 930.459,1189.16 932.608,1189.15 934.756,1189.15 \n  936.905,1189.15 939.053,1189.14 941.202,1189.14 943.35,1189.14 945.499,1189.14 947.647,1189.13 949.796,1189.13 951.944,1189.13 954.093,1189.13 956.241,1189.12 \n  958.39,1189.12 960.538,1189.12 962.687,1189.12 964.835,1189.12 966.984,1189.12 969.132,1189.12 971.281,1189.11 973.429,1189.11 975.578,1189.11 977.726,1189.11 \n  979.874,1189.11 982.023,1189.11 984.171,1189.11 986.32,1189.11 988.468,1189.11 990.617,1189.11 992.765,1189.11 994.914,1189.11 997.062,1189.11 999.211,1189.1 \n  1001.36,1189.1 1003.51,1189.1 1005.66,1189.1 1007.8,1189.1 1009.95,1189.1 1012.1,1189.1 1014.25,1189.1 1016.4,1189.1 1018.55,1189.1 1020.7,1189.1 \n  1022.84,1189.1 1024.99,1189.1 1027.14,1189.1 1029.29,1189.1 1031.44,1189.1 1033.59,1189.1 1035.74,1189.11 1037.88,1189.11 1040.03,1189.11 1042.18,1189.11 \n  1044.33,1189.11 1046.48,1189.11 1048.63,1189.11 1050.77,1189.11 1052.92,1189.11 1055.07,1189.11 1057.22,1189.11 1059.37,1189.11 1061.52,1189.11 1063.67,1189.11 \n  1065.81,1189.11 1067.96,1189.11 1070.11,1189.11 1072.26,1189.11 1074.41,1189.11 1076.56,1189.12 1078.7,1189.12 1080.85,1189.12 1083,1189.12 1085.15,1189.12 \n  1087.3,1189.12 1089.45,1189.12 1091.6,1189.12 1093.74,1189.12 1095.89,1189.12 1098.04,1189.12 1100.19,1189.12 1102.34,1189.12 1104.49,1189.12 1106.64,1189.12 \n  1108.78,1189.12 1110.93,1189.12 1113.08,1189.13 1115.23,1189.13 1117.38,1189.13 1119.53,1189.13 1121.67,1189.13 1123.82,1189.13 1125.97,1189.13 1128.12,1189.13 \n  1130.27,1189.13 1132.42,1189.13 1134.57,1189.13 1136.71,1189.13 1138.86,1189.13 1141.01,1189.13 1143.16,1189.13 1145.31,1189.13 1147.46,1189.13 1149.6,1189.13 \n  1151.75,1189.14 1153.9,1189.14 1156.05,1189.14 1158.2,1189.14 1160.35,1189.14 1162.5,1189.14 1164.64,1189.14 1166.79,1189.14 1168.94,1189.14 1171.09,1189.14 \n  1173.24,1189.14 1175.39,1189.14 1177.54,1189.14 1179.68,1189.14 1181.83,1189.14 1183.98,1189.14 1186.13,1189.14 1188.28,1189.14 1190.43,1189.14 1192.57,1189.14 \n  1194.72,1189.14 1196.87,1189.14 1199.02,1189.14 1201.17,1189.14 1203.32,1189.14 1205.47,1189.14 1207.61,1189.14 1209.76,1189.14 1211.91,1189.14 1214.06,1189.14 \n  1216.21,1189.14 1218.36,1189.14 1220.5,1189.14 1222.65,1189.14 1224.8,1189.14 1226.95,1189.14 1229.1,1189.14 1231.25,1189.14 1233.4,1189.14 1235.54,1189.14 \n  1237.69,1189.14 1239.84,1189.14 1241.99,1189.14 1244.14,1189.14 1246.29,1189.14 1248.44,1189.14 1250.58,1189.14 1252.73,1189.14 1254.88,1189.14 1257.03,1189.14 \n  1259.18,1189.14 1261.33,1189.14 1263.47,1189.14 1265.62,1189.14 1267.77,1189.14 1269.92,1189.14 1272.07,1189.14 1274.22,1189.15 1276.37,1189.15 1278.51,1189.15 \n  1280.66,1189.15 1282.81,1189.15 1284.96,1189.15 1287.11,1189.15 1289.26,1189.15 1291.4,1189.15 1293.55,1189.15 1295.7,1189.15 1297.85,1189.15 1300,1189.15 \n  1302.15,1189.15 1304.3,1189.15 1306.44,1189.15 1308.59,1189.15 1310.74,1189.15 1312.89,1189.15 1315.04,1189.15 1317.19,1189.15 1319.33,1189.15 1321.48,1189.15 \n  1323.63,1189.15 1325.78,1189.15 1327.93,1189.15 1330.08,1189.15 1332.23,1189.15 1334.37,1189.15 1336.52,1189.15 1338.67,1189.15 1340.82,1189.15 1342.97,1189.15 \n  1345.12,1189.15 1347.27,1189.15 1349.41,1189.15 1351.56,1189.15 1353.71,1189.15 1355.86,1189.15 1358.01,1189.15 1360.16,1189.15 1362.3,1189.15 1364.45,1189.15 \n  1366.6,1189.15 1368.75,1189.15 1370.9,1189.15 1373.05,1189.15 1375.2,1189.15 1377.34,1189.15 1379.49,1189.15 1381.64,1189.15 1383.79,1189.15 1385.94,1189.15 \n  1388.09,1189.15 1390.23,1189.14 1392.38,1189.14 1394.53,1189.14 1396.68,1189.14 1398.83,1189.14 1400.98,1189.13 1403.13,1189.13 1405.27,1189.13 1407.42,1189.13 \n  1409.57,1189.13 1411.72,1189.12 1413.87,1189.12 1416.02,1189.12 1418.17,1189.12 1420.31,1189.12 1422.46,1189.11 1424.61,1189.11 1426.76,1189.11 1428.91,1189.11 \n  1431.06,1189.11 1433.2,1189.1 1435.35,1189.1 1437.5,1189.1 1439.65,1189.1 1441.8,1189.1 1443.95,1189.1 1446.1,1189.1 1448.24,1189.1 1450.39,1189.1 \n  1452.54,1189.1 1454.69,1189.1 1456.84,1189.1 1458.99,1189.1 1461.13,1189.1 1463.28,1189.1 1465.43,1189.1 1467.58,1189.1 1469.73,1189.1 1471.88,1189.1 \n  1474.03,1189.1 1476.17,1189.1 1478.32,1189.1 1480.47,1189.1 1482.62,1189.1 1484.77,1189.11 1486.92,1189.11 1489.07,1189.11 1491.21,1189.11 1493.36,1189.11 \n  1495.51,1189.12 1497.66,1189.12 1499.81,1189.12 1501.96,1189.12 1504.1,1189.13 1506.25,1189.13 1508.4,1189.13 1510.55,1189.13 1512.7,1189.14 1514.85,1189.14 \n  1517,1189.14 1519.14,1189.15 1521.29,1189.15 1523.44,1189.15 1525.59,1189.16 1527.74,1189.16 1529.89,1189.16 1532.03,1189.17 1534.18,1189.17 1536.33,1189.17 \n  1538.48,1189.18 1540.63,1189.18 1542.78,1189.18 1544.93,1189.19 1547.07,1189.19 1549.22,1189.19 1551.37,1189.19 1553.52,1189.2 1555.67,1189.2 1557.82,1189.2 \n  1559.97,1189.2 1562.11,1189.2 1564.26,1189.21 1566.41,1189.21 1568.56,1189.21 1570.71,1189.21 1572.86,1189.21 1575,1189.21 1577.15,1189.21 1579.3,1189.21 \n  1581.45,1189.21 1583.6,1189.21 1585.75,1189.21 1587.9,1189.21 1590.04,1189.2 1592.19,1189.2 1594.34,1189.2 1596.49,1189.19 1598.64,1189.19 1600.79,1189.18 \n  1602.93,1189.17 1605.08,1189.16 1607.23,1189.16 1609.38,1189.14 1611.53,1189.13 1613.68,1189.12 1615.83,1189.11 1617.97,1189.1 1620.12,1189.09 1622.27,1189.08 \n  1624.42,1189.06 1626.57,1189.05 1628.72,1189.04 1630.87,1189.03 1633.01,1189.02 1635.16,1189.01 1637.31,1189 1639.46,1188.99 1641.61,1188.98 1643.76,1188.98 \n  1645.9,1188.97 1648.05,1188.96 1650.2,1188.96 1652.35,1188.95 1654.5,1188.95 1656.65,1188.95 1658.8,1188.95 1660.94,1188.94 1663.09,1188.95 1665.24,1188.95 \n  1667.39,1188.95 1669.54,1188.95 1671.69,1188.96 1673.83,1188.96 1675.98,1188.97 1678.13,1188.98 1680.28,1188.98 1682.43,1188.99 1684.58,1189 1686.73,1189.01 \n  1688.87,1189.02 1691.02,1189.04 1693.17,1189.05 1695.32,1189.06 1697.47,1189.08 1699.62,1189.09 1701.77,1189.11 1703.91,1189.12 1706.06,1189.14 1708.21,1189.15 \n  1710.36,1189.17 1712.51,1189.19 1714.66,1189.2 1716.8,1189.22 1718.95,1189.23 1721.1,1189.25 1723.25,1189.27 1725.4,1189.28 1727.55,1189.29 1729.7,1189.31 \n  1731.84,1189.32 1733.99,1189.33 1736.14,1189.34 1738.29,1189.35 1740.44,1189.35 1742.59,1189.36 1744.73,1189.36 1746.88,1189.36 1749.03,1189.36 1751.18,1189.36 \n  1753.33,1189.35 1755.48,1189.34 1757.63,1189.33 1759.77,1189.32 1761.92,1189.3 1764.07,1189.29 1766.22,1189.27 1768.37,1189.25 1770.52,1189.23 1772.67,1189.21 \n  1774.81,1189.19 1776.96,1189.17 1779.11,1189.15 1781.26,1189.13 1783.41,1189.11 1785.56,1189.09 1787.7,1189.08 1789.85,1189.06 1792,1189.04 1794.15,1189.03 \n  1796.3,1189.01 1798.45,1189 1800.6,1188.99 1802.74,1188.98 1804.89,1188.97 1807.04,1188.96 1809.19,1188.95 1811.34,1188.95 1813.49,1188.95 1815.63,1188.95 \n  1817.78,1188.95 1819.93,1188.95 1822.08,1188.95 1824.23,1188.96 1826.38,1188.97 1828.53,1188.98 1830.67,1188.99 1832.82,1189 1834.97,1189.01 1837.12,1189.03 \n  1839.27,1189.04 1841.42,1189.06 1843.57,1189.08 1845.71,1189.09 1847.86,1189.11 1850.01,1189.13 1852.16,1189.15 1854.31,1189.17 1856.46,1189.2 1858.6,1189.22 \n  1860.75,1189.24 1862.9,1189.26 1865.05,1189.28 1867.2,1189.29 1869.35,1189.31 1871.5,1189.33 1873.64,1189.34 1875.79,1189.35 1877.94,1189.36 1880.09,1189.37 \n  1882.24,1189.38 1884.39,1189.38 1886.53,1189.38 1888.68,1189.37 1890.83,1189.37 1892.98,1189.35 1895.13,1189.34 1897.28,1189.33 1899.43,1189.31 1901.57,1189.3 \n  1903.72,1189.28 1905.87,1189.26 1908.02,1189.25 1910.17,1189.23 1912.32,1189.21 1914.47,1189.2 1916.61,1189.18 1918.76,1189.17 1920.91,1189.15 1923.06,1189.14 \n  1925.21,1189.12 1927.36,1189.11 1929.5,1189.1 1931.65,1189.09 1933.8,1189.08 1935.95,1189.07 1938.1,1189.07 1940.25,1189.06 1942.4,1189.06 1944.54,1189.05 \n  1946.69,1189.05 1948.84,1189.05 1950.99,1189.05 1953.14,1189.06 1955.29,1189.06 1957.43,1189.06 1959.58,1189.07 1961.73,1189.08 1963.88,1189.08 1966.03,1189.09 \n  1968.18,1189.1 1970.33,1189.11 1972.47,1189.12 1974.62,1189.14 1976.77,1189.15 1978.92,1189.16 1981.07,1189.17 1983.22,1189.19 1985.37,1189.2 1987.51,1189.21 \n  1989.66,1189.22 1991.81,1189.24 1993.96,1189.25 1996.11,1189.26 1998.26,1189.27 2000.4,1189.27 2002.55,1189.28 2004.7,1189.29 2006.85,1189.29 2009,1189.29 \n  2011.15,1189.29 2013.3,1189.28 2015.44,1189.28 2017.59,1189.27 2019.74,1189.26 2021.89,1189.25 2024.04,1189.24 2026.19,1189.23 2028.33,1189.22 2030.48,1189.21 \n  2032.63,1189.2 2034.78,1189.19 2036.93,1189.18 2039.08,1189.17 2041.23,1189.17 2043.37,1189.16 2045.52,1189.15 2047.67,1189.14 2049.82,1189.13 2051.97,1189.13 \n  2054.12,1189.12 2056.27,1189.12 2058.41,1189.11 2060.56,1189.11 2062.71,1189.11 2064.86,1189.1 2067.01,1189.1 2069.16,1189.1 2071.3,1189.1 2073.45,1189.1 \n  2075.6,1189.1 2077.75,1189.1 2079.9,1189.11 2082.05,1189.11 2084.2,1189.11 2086.34,1189.12 2088.49,1189.12 2090.64,1189.13 2092.79,1189.13 2094.94,1189.14 \n  2097.09,1189.15 2099.23,1189.15 2101.38,1189.16 2103.53,1189.17 2105.68,1189.17 2107.83,1189.18 2109.98,1189.19 2112.13,1189.2 2114.27,1189.2 2116.42,1189.21 \n  2118.57,1189.21 2120.72,1189.22 2122.87,1189.22 2125.02,1189.22 2127.17,1189.23 2129.31,1189.23 2131.46,1189.23 2133.61,1189.22 2135.76,1189.22 2137.91,1189.22 \n  2140.06,1189.21 2142.2,1189.21 2144.35,1189.2 2146.5,1189.2 2148.65,1189.19 2150.8,1189.18 2152.95,1189.18 2155.1,1189.17 2157.24,1189.17 2159.39,1189.16 \n  2161.54,1189.16 2163.69,1189.15 2165.84,1189.15 2167.99,1189.14 2170.13,1189.14 2172.28,1189.13 2174.43,1189.13 2176.58,1189.12 2178.73,1189.12 2180.88,1189.12 \n  2183.03,1189.12 2185.17,1189.12 2187.32,1189.11 2189.47,1189.11 2191.62,1189.11 2193.77,1189.11 2195.92,1189.11 2198.07,1189.11 2200.21,1189.12 2202.36,1189.12 \n  2204.51,1189.12 2206.66,1189.12 2208.81,1189.13 2210.96,1189.13 2213.1,1189.13 2215.25,1189.14 2217.4,1189.14 2219.55,1189.14 2221.7,1189.15 2223.85,1189.15 \n  2226,1189.16 2228.14,1189.16 2230.29,1189.17 2232.44,1189.17 2234.59,1189.18 2236.74,1189.18 2238.89,1189.18 2241.03,1189.19 2243.18,1189.19 2245.33,1189.2 \n  2247.48,1189.2 2249.63,1189.2 2251.78,1189.2 2253.93,1189.2 2256.07,1189.2 2258.22,1189.2 2260.37,1189.2 2262.52,1189.19 2264.67,1189.19 2266.82,1189.19 \n  2268.97,1189.19 2271.11,1189.18 2273.26,1189.18 2275.41,1189.18 2277.56,1189.18 2279.71,1189.17 2281.86,1189.17 2284,1189.17 2286.15,1189.17 2288.3,1189.17 \n  2290.45,1189.17 2292.6,1189.16 2294.75,1189.16 2296.9,1189.16 2299.04,1189.16 2301.19,1189.16 2303.34,1189.16 2305.49,1189.16 2307.64,1189.16 2309.79,1189.16 \n  2311.93,1189.16 2314.08,1189.16 2316.23,1189.16 2318.38,1189.16 2320.53,1189.16 2322.68,1189.16 2324.83,1189.16 2326.97,1189.16 2329.12,1189.16 2331.27,1189.16 \n  2333.42,1189.16 2335.57,1189.16 2337.72,1189.16 2339.87,1189.16 2342.01,1189.16 2344.16,1189.16 2346.31,1189.16 2348.46,1189.16 2350.61,1189.16 2352.76,1189.16 \n  \n  \"/>\n<polyline clip-path=\"url(#clip042)\" style=\"stroke:#3da44d; stroke-linecap:round; stroke-linejoin:round; stroke-width:8; stroke-opacity:1; fill:none\" points=\"\n  206.42,1398.46 208.569,1397.65 210.717,1395.31 212.866,1391.61 215.014,1386.69 217.163,1380.7 219.311,1373.79 221.46,1366.09 223.608,1357.72 225.757,1348.8 \n  227.905,1339.43 230.053,1329.7 232.202,1319.71 234.35,1309.53 236.499,1299.22 238.647,1288.86 240.796,1278.48 242.944,1268.15 245.093,1257.9 247.241,1247.77 \n  249.39,1237.78 251.538,1227.98 253.687,1218.37 255.835,1208.98 257.984,1199.82 260.132,1190.91 262.281,1182.26 264.429,1173.87 266.578,1165.76 268.726,1157.92 \n  270.875,1150.37 273.023,1143.1 275.172,1136.11 277.32,1129.41 279.469,1122.99 281.617,1116.85 283.766,1110.99 285.914,1105.4 288.063,1100.09 290.211,1095.04 \n  292.36,1090.25 294.508,1085.72 296.656,1081.44 298.805,1077.41 300.953,1073.62 303.102,1070.06 305.25,1066.74 307.399,1063.64 309.547,1060.75 311.696,1058.08 \n  313.844,1055.61 315.993,1053.34 318.141,1051.26 320.29,1049.36 322.438,1047.65 324.587,1046.12 326.735,1044.75 328.884,1043.55 331.032,1042.5 333.181,1041.61 \n  335.329,1040.87 337.478,1040.26 339.626,1039.79 341.775,1039.45 343.923,1039.23 346.072,1039.14 348.22,1039.15 350.369,1039.28 352.517,1039.52 354.666,1039.85 \n  356.814,1040.29 358.963,1040.81 361.111,1041.42 363.26,1042.12 365.408,1042.9 367.556,1043.75 369.705,1044.67 371.853,1045.66 374.002,1046.72 376.15,1047.83 \n  378.299,1049 380.447,1050.23 382.596,1051.51 384.744,1052.83 386.893,1054.2 389.041,1055.61 391.19,1057.07 393.338,1058.55 395.487,1060.07 397.635,1061.63 \n  399.784,1063.21 401.932,1064.81 404.081,1066.44 406.229,1068.09 408.378,1069.76 410.526,1071.45 412.675,1073.15 414.823,1074.87 416.972,1076.6 419.12,1078.33 \n  421.269,1080.08 423.417,1081.83 425.566,1083.58 427.714,1085.34 429.863,1087.1 432.011,1088.86 434.159,1090.62 436.308,1092.38 438.456,1094.14 440.605,1095.88 \n  442.753,1097.63 444.902,1099.36 447.05,1101.09 449.199,1102.81 451.347,1104.52 453.496,1106.22 455.644,1107.91 457.793,1109.58 459.941,1111.24 462.09,1112.89 \n  464.238,1114.52 466.387,1116.14 468.535,1117.74 470.684,1119.33 472.832,1120.9 474.981,1122.45 477.129,1123.99 479.278,1125.5 481.426,1127 483.575,1128.48 \n  485.723,1129.94 487.872,1131.38 490.02,1132.8 492.169,1134.2 494.317,1135.58 496.466,1136.94 498.614,1138.28 500.762,1139.6 502.911,1140.9 505.059,1142.18 \n  507.208,1143.44 509.356,1144.68 511.505,1145.89 513.653,1147.09 515.802,1148.26 517.95,1149.41 520.099,1150.54 522.247,1151.65 524.396,1152.74 526.544,1153.81 \n  528.693,1154.86 530.841,1155.88 532.99,1156.89 535.138,1157.88 537.287,1158.84 539.435,1159.78 541.584,1160.71 543.732,1161.61 545.881,1162.5 548.029,1163.37 \n  550.178,1164.21 552.326,1165.04 554.475,1165.85 556.623,1166.64 558.772,1167.41 560.92,1168.17 563.069,1168.9 565.217,1169.62 567.366,1170.32 569.514,1171.01 \n  571.662,1171.67 573.811,1172.32 575.959,1172.95 578.108,1173.57 580.256,1174.17 582.405,1174.75 584.553,1175.32 586.702,1175.87 588.85,1176.41 590.999,1176.93 \n  593.147,1177.44 595.296,1177.93 597.444,1178.41 599.593,1178.87 601.741,1179.32 603.89,1179.76 606.038,1180.19 608.187,1180.6 610.335,1181 612.484,1181.39 \n  614.632,1181.76 616.781,1182.13 618.929,1182.48 621.078,1182.82 623.226,1183.15 625.375,1183.47 627.523,1183.78 629.672,1184.08 631.82,1184.36 633.969,1184.64 \n  636.117,1184.91 638.265,1185.17 640.414,1185.42 642.562,1185.66 644.711,1185.9 646.859,1186.12 649.008,1186.33 651.156,1186.54 653.305,1186.74 655.453,1186.93 \n  657.602,1187.12 659.75,1187.29 661.899,1187.46 664.047,1187.62 666.196,1187.78 668.344,1187.93 670.493,1188.07 672.641,1188.21 674.79,1188.34 676.938,1188.46 \n  679.087,1188.58 681.235,1188.7 683.384,1188.81 685.532,1188.91 687.681,1189.01 689.829,1189.1 691.978,1189.19 694.126,1189.28 696.275,1189.36 698.423,1189.43 \n  700.572,1189.51 702.72,1189.58 704.868,1189.64 707.017,1189.7 709.165,1189.76 711.314,1189.81 713.462,1189.86 715.611,1189.91 717.759,1189.96 719.908,1190 \n  722.056,1190.04 724.205,1190.07 726.353,1190.1 728.502,1190.13 730.65,1190.16 732.799,1190.19 734.947,1190.21 737.096,1190.23 739.244,1190.25 741.393,1190.27 \n  743.541,1190.28 745.69,1190.3 747.838,1190.31 749.987,1190.32 752.135,1190.32 754.284,1190.33 756.432,1190.34 758.581,1190.34 760.729,1190.34 762.878,1190.34 \n  765.026,1190.34 767.175,1190.34 769.323,1190.34 771.472,1190.34 773.62,1190.33 775.768,1190.33 777.917,1190.32 780.065,1190.31 782.214,1190.31 784.362,1190.3 \n  786.511,1190.29 788.659,1190.28 790.808,1190.27 792.956,1190.26 795.105,1190.25 797.253,1190.24 799.402,1190.23 801.55,1190.21 803.699,1190.2 805.847,1190.19 \n  807.996,1190.17 810.144,1190.16 812.293,1190.15 814.441,1190.13 816.59,1190.12 818.738,1190.1 820.887,1190.09 823.035,1190.07 825.184,1190.06 827.332,1190.04 \n  829.481,1190.03 831.629,1190.01 833.778,1190 835.926,1189.98 838.075,1189.97 840.223,1189.95 842.371,1189.93 844.52,1189.92 846.668,1189.9 848.817,1189.89 \n  850.965,1189.87 853.114,1189.86 855.262,1189.84 857.411,1189.83 859.559,1189.81 861.708,1189.8 863.856,1189.78 866.005,1189.77 868.153,1189.75 870.302,1189.74 \n  872.45,1189.73 874.599,1189.71 876.747,1189.7 878.896,1189.68 881.044,1189.67 883.193,1189.66 885.341,1189.64 887.49,1189.63 889.638,1189.62 891.787,1189.6 \n  893.935,1189.59 896.084,1189.58 898.232,1189.57 900.381,1189.56 902.529,1189.54 904.678,1189.53 906.826,1189.52 908.975,1189.51 911.123,1189.5 913.271,1189.49 \n  915.42,1189.48 917.568,1189.47 919.717,1189.46 921.865,1189.45 924.014,1189.44 926.162,1189.43 928.311,1189.42 930.459,1189.41 932.608,1189.4 934.756,1189.4 \n  936.905,1189.39 939.053,1189.38 941.202,1189.37 943.35,1189.36 945.499,1189.36 947.647,1189.35 949.796,1189.34 951.944,1189.34 954.093,1189.33 956.241,1189.32 \n  958.39,1189.32 960.538,1189.31 962.687,1189.31 964.835,1189.3 966.984,1189.29 969.132,1189.29 971.281,1189.28 973.429,1189.28 975.578,1189.27 977.726,1189.27 \n  979.874,1189.26 982.023,1189.26 984.171,1189.25 986.32,1189.25 988.468,1189.24 990.617,1189.24 992.765,1189.23 994.914,1189.23 997.062,1189.23 999.211,1189.22 \n  1001.36,1189.22 1003.51,1189.21 1005.66,1189.21 1007.8,1189.21 1009.95,1189.2 1012.1,1189.2 1014.25,1189.2 1016.4,1189.19 1018.55,1189.19 1020.7,1189.19 \n  1022.84,1189.18 1024.99,1189.18 1027.14,1189.18 1029.29,1189.18 1031.44,1189.17 1033.59,1189.17 1035.74,1189.17 1037.88,1189.17 1040.03,1189.17 1042.18,1189.16 \n  1044.33,1189.16 1046.48,1189.16 1048.63,1189.16 1050.77,1189.16 1052.92,1189.16 1055.07,1189.16 1057.22,1189.16 1059.37,1189.15 1061.52,1189.15 1063.67,1189.15 \n  1065.81,1189.15 1067.96,1189.15 1070.11,1189.15 1072.26,1189.15 1074.41,1189.15 1076.56,1189.15 1078.7,1189.15 1080.85,1189.15 1083,1189.15 1085.15,1189.15 \n  1087.3,1189.15 1089.45,1189.14 1091.6,1189.14 1093.74,1189.14 1095.89,1189.14 1098.04,1189.14 1100.19,1189.14 1102.34,1189.14 1104.49,1189.14 1106.64,1189.14 \n  1108.78,1189.14 1110.93,1189.14 1113.08,1189.14 1115.23,1189.14 1117.38,1189.14 1119.53,1189.14 1121.67,1189.14 1123.82,1189.14 1125.97,1189.14 1128.12,1189.14 \n  1130.27,1189.14 1132.42,1189.14 1134.57,1189.14 1136.71,1189.14 1138.86,1189.14 1141.01,1189.14 1143.16,1189.14 1145.31,1189.14 1147.46,1189.14 1149.6,1189.14 \n  1151.75,1189.14 1153.9,1189.14 1156.05,1189.14 1158.2,1189.14 1160.35,1189.14 1162.5,1189.14 1164.64,1189.14 1166.79,1189.14 1168.94,1189.14 1171.09,1189.14 \n  1173.24,1189.14 1175.39,1189.14 1177.54,1189.14 1179.68,1189.14 1181.83,1189.14 1183.98,1189.14 1186.13,1189.14 1188.28,1189.14 1190.43,1189.14 1192.57,1189.14 \n  1194.72,1189.14 1196.87,1189.14 1199.02,1189.14 1201.17,1189.14 1203.32,1189.14 1205.47,1189.14 1207.61,1189.14 1209.76,1189.14 1211.91,1189.14 1214.06,1189.14 \n  1216.21,1189.14 1218.36,1189.14 1220.5,1189.14 1222.65,1189.14 1224.8,1189.14 1226.95,1189.14 1229.1,1189.14 1231.25,1189.14 1233.4,1189.14 1235.54,1189.14 \n  1237.69,1189.14 1239.84,1189.14 1241.99,1189.14 1244.14,1189.14 1246.29,1189.14 1248.44,1189.14 1250.58,1189.15 1252.73,1189.15 1254.88,1189.15 1257.03,1189.15 \n  1259.18,1189.15 1261.33,1189.15 1263.47,1189.15 1265.62,1189.15 1267.77,1189.15 1269.92,1189.15 1272.07,1189.15 1274.22,1189.15 1276.37,1189.15 1278.51,1189.15 \n  1280.66,1189.15 1282.81,1189.15 1284.96,1189.15 1287.11,1189.15 1289.26,1189.15 1291.4,1189.15 1293.55,1189.15 1295.7,1189.15 1297.85,1189.15 1300,1189.15 \n  1302.15,1189.15 1304.3,1189.15 1306.44,1189.15 1308.59,1189.15 1310.74,1189.15 1312.89,1189.15 1315.04,1189.15 1317.19,1189.15 1319.33,1189.15 1321.48,1189.15 \n  1323.63,1189.15 1325.78,1189.15 1327.93,1189.15 1330.08,1189.15 1332.23,1189.15 1334.37,1189.15 1336.52,1189.15 1338.67,1189.15 1340.82,1189.15 1342.97,1189.15 \n  1345.12,1189.15 1347.27,1189.15 1349.41,1189.15 1351.56,1189.15 1353.71,1189.15 1355.86,1189.15 1358.01,1189.15 1360.16,1189.15 1362.3,1189.15 1364.45,1189.15 \n  1366.6,1189.15 1368.75,1189.15 1370.9,1189.15 1373.05,1189.15 1375.2,1189.15 1377.34,1189.15 1379.49,1189.15 1381.64,1189.15 1383.79,1189.16 1385.94,1189.16 \n  1388.09,1189.16 1390.23,1189.16 1392.38,1189.16 1394.53,1189.17 1396.68,1189.17 1398.83,1189.17 1400.98,1189.17 1403.13,1189.18 1405.27,1189.18 1407.42,1189.18 \n  1409.57,1189.19 1411.72,1189.19 1413.87,1189.19 1416.02,1189.19 1418.17,1189.2 1420.31,1189.2 1422.46,1189.2 1424.61,1189.2 1426.76,1189.2 1428.91,1189.21 \n  1431.06,1189.21 1433.2,1189.21 1435.35,1189.21 1437.5,1189.21 1439.65,1189.22 1441.8,1189.22 1443.95,1189.22 1446.1,1189.22 1448.24,1189.22 1450.39,1189.22 \n  1452.54,1189.22 1454.69,1189.22 1456.84,1189.22 1458.99,1189.22 1461.13,1189.22 1463.28,1189.22 1465.43,1189.22 1467.58,1189.22 1469.73,1189.22 1471.88,1189.22 \n  1474.03,1189.22 1476.17,1189.22 1478.32,1189.22 1480.47,1189.21 1482.62,1189.21 1484.77,1189.21 1486.92,1189.21 1489.07,1189.2 1491.21,1189.2 1493.36,1189.2 \n  1495.51,1189.2 1497.66,1189.19 1499.81,1189.19 1501.96,1189.19 1504.1,1189.18 1506.25,1189.18 1508.4,1189.18 1510.55,1189.17 1512.7,1189.17 1514.85,1189.17 \n  1517,1189.16 1519.14,1189.16 1521.29,1189.15 1523.44,1189.15 1525.59,1189.14 1527.74,1189.14 1529.89,1189.14 1532.03,1189.13 1534.18,1189.13 1536.33,1189.12 \n  1538.48,1189.12 1540.63,1189.12 1542.78,1189.11 1544.93,1189.11 1547.07,1189.1 1549.22,1189.1 1551.37,1189.1 1553.52,1189.09 1555.67,1189.09 1557.82,1189.09 \n  1559.97,1189.09 1562.11,1189.08 1564.26,1189.08 1566.41,1189.08 1568.56,1189.08 1570.71,1189.08 1572.86,1189.08 1575,1189.07 1577.15,1189.07 1579.3,1189.07 \n  1581.45,1189.08 1583.6,1189.08 1585.75,1189.08 1587.9,1189.08 1590.04,1189.08 1592.19,1189.09 1594.34,1189.09 1596.49,1189.1 1598.64,1189.1 1600.79,1189.11 \n  1602.93,1189.12 1605.08,1189.13 1607.23,1189.15 1609.38,1189.16 1611.53,1189.17 1613.68,1189.19 1615.83,1189.2 1617.97,1189.22 1620.12,1189.23 1622.27,1189.25 \n  1624.42,1189.26 1626.57,1189.28 1628.72,1189.29 1630.87,1189.31 1633.01,1189.32 1635.16,1189.33 1637.31,1189.35 1639.46,1189.36 1641.61,1189.37 1643.76,1189.38 \n  1645.9,1189.39 1648.05,1189.39 1650.2,1189.4 1652.35,1189.41 1654.5,1189.41 1656.65,1189.41 1658.8,1189.42 1660.94,1189.42 1663.09,1189.42 1665.24,1189.41 \n  1667.39,1189.41 1669.54,1189.41 1671.69,1189.4 1673.83,1189.39 1675.98,1189.39 1678.13,1189.38 1680.28,1189.37 1682.43,1189.35 1684.58,1189.34 1686.73,1189.33 \n  1688.87,1189.31 1691.02,1189.3 1693.17,1189.28 1695.32,1189.26 1697.47,1189.24 1699.62,1189.23 1701.77,1189.21 1703.91,1189.19 1706.06,1189.17 1708.21,1189.14 \n  1710.36,1189.12 1712.51,1189.1 1714.66,1189.08 1716.8,1189.06 1718.95,1189.04 1721.1,1189.02 1723.25,1189 1725.4,1188.98 1727.55,1188.97 1729.7,1188.95 \n  1731.84,1188.93 1733.99,1188.92 1736.14,1188.91 1738.29,1188.9 1740.44,1188.89 1742.59,1188.88 1744.73,1188.88 1746.88,1188.88 1749.03,1188.88 1751.18,1188.88 \n  1753.33,1188.89 1755.48,1188.9 1757.63,1188.91 1759.77,1188.93 1761.92,1188.95 1764.07,1188.97 1766.22,1188.99 1768.37,1189.02 1770.52,1189.04 1772.67,1189.07 \n  1774.81,1189.09 1776.96,1189.12 1779.11,1189.15 1781.26,1189.17 1783.41,1189.2 1785.56,1189.22 1787.7,1189.25 1789.85,1189.27 1792,1189.29 1794.15,1189.31 \n  1796.3,1189.33 1798.45,1189.35 1800.6,1189.36 1802.74,1189.38 1804.89,1189.39 1807.04,1189.4 1809.19,1189.4 1811.34,1189.41 1813.49,1189.41 1815.63,1189.41 \n  1817.78,1189.41 1819.93,1189.41 1822.08,1189.41 1824.23,1189.4 1826.38,1189.39 1828.53,1189.38 1830.67,1189.36 1832.82,1189.35 1834.97,1189.33 1837.12,1189.31 \n  1839.27,1189.29 1841.42,1189.27 1843.57,1189.25 1845.71,1189.22 1847.86,1189.2 1850.01,1189.17 1852.16,1189.15 1854.31,1189.12 1856.46,1189.09 1858.6,1189.06 \n  1860.75,1189.04 1862.9,1189.01 1865.05,1188.99 1867.2,1188.96 1869.35,1188.94 1871.5,1188.92 1873.64,1188.9 1875.79,1188.88 1877.94,1188.87 1880.09,1188.86 \n  1882.24,1188.85 1884.39,1188.85 1886.53,1188.85 1888.68,1188.86 1890.83,1188.87 1892.98,1188.88 1895.13,1188.9 1897.28,1188.92 1899.43,1188.94 1901.57,1188.96 \n  1903.72,1188.98 1905.87,1189 1908.02,1189.02 1910.17,1189.05 1912.32,1189.07 1914.47,1189.09 1916.61,1189.11 1918.76,1189.13 1920.91,1189.15 1923.06,1189.17 \n  1925.21,1189.18 1927.36,1189.2 1929.5,1189.21 1931.65,1189.23 1933.8,1189.24 1935.95,1189.25 1938.1,1189.26 1940.25,1189.26 1942.4,1189.27 1944.54,1189.27 \n  1946.69,1189.28 1948.84,1189.28 1950.99,1189.27 1953.14,1189.27 1955.29,1189.27 1957.43,1189.26 1959.58,1189.25 1961.73,1189.25 1963.88,1189.24 1966.03,1189.22 \n  1968.18,1189.21 1970.33,1189.2 1972.47,1189.18 1974.62,1189.17 1976.77,1189.15 1978.92,1189.14 1981.07,1189.12 1983.22,1189.1 1985.37,1189.09 1987.51,1189.07 \n  1989.66,1189.05 1991.81,1189.04 1993.96,1189.02 1996.11,1189.01 1998.26,1189 2000.4,1188.99 2002.55,1188.98 2004.7,1188.97 2006.85,1188.97 2009,1188.97 \n  2011.15,1188.97 2013.3,1188.98 2015.44,1188.99 2017.59,1189 2019.74,1189.01 2021.89,1189.02 2024.04,1189.03 2026.19,1189.04 2028.33,1189.06 2030.48,1189.07 \n  2032.63,1189.08 2034.78,1189.09 2036.93,1189.11 2039.08,1189.12 2041.23,1189.13 2043.37,1189.14 2045.52,1189.15 2047.67,1189.16 2049.82,1189.17 2051.97,1189.18 \n  2054.12,1189.19 2056.27,1189.19 2058.41,1189.2 2060.56,1189.2 2062.71,1189.21 2064.86,1189.21 2067.01,1189.21 2069.16,1189.21 2071.3,1189.21 2073.45,1189.21 \n  2075.6,1189.21 2077.75,1189.21 2079.9,1189.21 2082.05,1189.2 2084.2,1189.2 2086.34,1189.19 2088.49,1189.19 2090.64,1189.18 2092.79,1189.17 2094.94,1189.16 \n  2097.09,1189.15 2099.23,1189.15 2101.38,1189.14 2103.53,1189.13 2105.68,1189.12 2107.83,1189.11 2109.98,1189.1 2112.13,1189.09 2114.27,1189.08 2116.42,1189.08 \n  2118.57,1189.07 2120.72,1189.06 2122.87,1189.06 2125.02,1189.05 2127.17,1189.05 2129.31,1189.05 2131.46,1189.05 2133.61,1189.05 2135.76,1189.06 2137.91,1189.06 \n  2140.06,1189.07 2142.2,1189.08 2144.35,1189.08 2146.5,1189.09 2148.65,1189.1 2150.8,1189.11 2152.95,1189.11 2155.1,1189.12 2157.24,1189.13 2159.39,1189.14 \n  2161.54,1189.14 2163.69,1189.15 2165.84,1189.16 2167.99,1189.16 2170.13,1189.17 2172.28,1189.17 2174.43,1189.18 2176.58,1189.18 2178.73,1189.19 2180.88,1189.19 \n  2183.03,1189.19 2185.17,1189.2 2187.32,1189.2 2189.47,1189.2 2191.62,1189.2 2193.77,1189.2 2195.92,1189.2 2198.07,1189.2 2200.21,1189.2 2202.36,1189.19 \n  2204.51,1189.19 2206.66,1189.19 2208.81,1189.18 2210.96,1189.18 2213.1,1189.17 2215.25,1189.17 2217.4,1189.16 2219.55,1189.16 2221.7,1189.15 2223.85,1189.15 \n  2226,1189.14 2228.14,1189.13 2230.29,1189.13 2232.44,1189.12 2234.59,1189.12 2236.74,1189.11 2238.89,1189.11 2241.03,1189.1 2243.18,1189.1 2245.33,1189.09 \n  2247.48,1189.09 2249.63,1189.09 2251.78,1189.09 2253.93,1189.09 2256.07,1189.09 2258.22,1189.09 2260.37,1189.09 2262.52,1189.09 2264.67,1189.1 2266.82,1189.1 \n  2268.97,1189.1 2271.11,1189.11 2273.26,1189.11 2275.41,1189.11 2277.56,1189.12 2279.71,1189.12 2281.86,1189.12 2284,1189.12 2286.15,1189.13 2288.3,1189.13 \n  2290.45,1189.13 2292.6,1189.13 2294.75,1189.13 2296.9,1189.14 2299.04,1189.14 2301.19,1189.14 2303.34,1189.14 2305.49,1189.14 2307.64,1189.14 2309.79,1189.14 \n  2311.93,1189.14 2314.08,1189.14 2316.23,1189.14 2318.38,1189.14 2320.53,1189.14 2322.68,1189.14 2324.83,1189.14 2326.97,1189.14 2329.12,1189.14 2331.27,1189.14 \n  2333.42,1189.14 2335.57,1189.14 2337.72,1189.14 2339.87,1189.14 2342.01,1189.14 2344.16,1189.14 2346.31,1189.14 2348.46,1189.14 2350.61,1189.14 2352.76,1189.14 \n  \n  \"/>\n<path clip-path=\"url(#clip040)\" d=\"\nM2034.91 356.643 L2281.21 356.643 L2281.21 149.283 L2034.91 149.283  Z\n  \" fill=\"#ffffff\" fill-rule=\"evenodd\" fill-opacity=\"1\"/>\n<polyline clip-path=\"url(#clip040)\" style=\"stroke:#000000; stroke-linecap:round; stroke-linejoin:round; stroke-width:4; stroke-opacity:1; fill:none\" points=\"\n  2034.91,356.643 2281.21,356.643 2281.21,149.283 2034.91,149.283 2034.91,356.643 \n  \"/>\n<polyline clip-path=\"url(#clip040)\" style=\"stroke:#009af9; stroke-linecap:round; stroke-linejoin:round; stroke-width:8; stroke-opacity:1; fill:none\" points=\"\n  2058.76,201.123 2201.85,201.123 \n  \"/>\n<path clip-path=\"url(#clip040)\" d=\"M2241.53 188.449 L2235.19 205.648 L2247.9 205.648 L2241.53 188.449 M2238.89 183.843 L2244.19 183.843 L2257.36 218.403 L2252.5 218.403 L2249.35 209.537 L2233.78 209.537 L2230.63 218.403 L2225.7 218.403 L2238.89 183.843 Z\" fill=\"#000000\" fill-rule=\"evenodd\" fill-opacity=\"1\" /><polyline clip-path=\"url(#clip040)\" style=\"stroke:#e26f46; stroke-linecap:round; stroke-linejoin:round; stroke-width:8; stroke-opacity:1; fill:none\" points=\"\n  2058.76,252.963 2201.85,252.963 \n  \"/>\n<path clip-path=\"url(#clip040)\" d=\"M2230.37 253.738 L2230.37 266.4 L2237.87 266.4 Q2241.65 266.4 2243.45 264.849 Q2245.28 263.275 2245.28 260.058 Q2245.28 256.817 2243.45 255.289 Q2241.65 253.738 2237.87 253.738 L2230.37 253.738 M2230.37 239.526 L2230.37 249.942 L2237.29 249.942 Q2240.72 249.942 2242.39 248.669 Q2244.08 247.373 2244.08 244.734 Q2244.08 242.118 2242.39 240.822 Q2240.72 239.526 2237.29 239.526 L2230.37 239.526 M2225.7 235.683 L2237.64 235.683 Q2242.99 235.683 2245.88 237.905 Q2248.78 240.127 2248.78 244.225 Q2248.78 247.396 2247.29 249.271 Q2245.81 251.146 2242.94 251.609 Q2246.39 252.35 2248.29 254.711 Q2250.21 257.049 2250.21 260.567 Q2250.21 265.197 2247.06 267.72 Q2243.91 270.243 2238.1 270.243 L2225.7 270.243 L2225.7 235.683 Z\" fill=\"#000000\" fill-rule=\"evenodd\" fill-opacity=\"1\" /><polyline clip-path=\"url(#clip040)\" style=\"stroke:#3da44d; stroke-linecap:round; stroke-linejoin:round; stroke-width:8; stroke-opacity:1; fill:none\" points=\"\n  2058.76,304.803 2201.85,304.803 \n  \"/>\n<path clip-path=\"url(#clip040)\" d=\"M2253.57 290.185 L2253.57 295.115 Q2251.21 292.916 2248.52 291.828 Q2245.86 290.741 2242.85 290.741 Q2236.92 290.741 2233.78 294.375 Q2230.63 297.986 2230.63 304.838 Q2230.63 311.666 2233.78 315.301 Q2236.92 318.912 2242.85 318.912 Q2245.86 318.912 2248.52 317.824 Q2251.21 316.736 2253.57 314.537 L2253.57 319.421 Q2251.11 321.088 2248.36 321.921 Q2245.63 322.754 2242.57 322.754 Q2234.72 322.754 2230.21 317.963 Q2225.7 313.148 2225.7 304.838 Q2225.7 296.504 2230.21 291.713 Q2234.72 286.898 2242.57 286.898 Q2245.67 286.898 2248.4 287.731 Q2251.16 288.541 2253.57 290.185 Z\" fill=\"#000000\" fill-rule=\"evenodd\" fill-opacity=\"1\" /></svg>\n"
     },
     "execution_count": 41,
     "metadata": {},
     "output_type": "execute_result"
    }
   ],
   "source": [
    "new_system = remake(problem, p = sol.u, tspan=(0.,200.))\n",
    "new_ode_solution = DifferentialEquations.solve(new_system)\n",
    "plot(new_ode_solution, linewidth=2, labels=[\"A\" \"B\" \"C\"], xlabel=\"Time\", ylabel=\"Concentration\", \n",
    "labelfontsize=8, title=\"Steady-State Evolution of Chemical System towards 0.3\", \n",
    "titlefontsize = 10, titlefontfamily = \"Helvetica Bold\")"
   ]
  }
 ],
 "metadata": {
  "kernelspec": {
   "display_name": "Julia 1.8.2",
   "language": "julia",
   "name": "julia-1.8"
  },
  "language_info": {
   "file_extension": ".jl",
   "mimetype": "application/julia",
   "name": "julia",
   "version": "1.8.2"
  },
  "orig_nbformat": 4,
  "vscode": {
   "interpreter": {
    "hash": "b0fa6594d8f4cbf19f97940f81e996739fb7646882a419484c72d19e05852a7e"
   }
  }
 },
 "nbformat": 4,
 "nbformat_minor": 2
}
