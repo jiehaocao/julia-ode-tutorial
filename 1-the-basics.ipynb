{
 "cells": [
  {
   "attachments": {},
   "cell_type": "markdown",
   "metadata": {},
   "source": [
    "# 1. The Basics of Julia\n",
    "Julia is a programming language designed to make scientific computing easy, with a simple syntax, just like Python and Matlab. Moreover, Julia has advantages compared to Python in areas of multithreaded computing, for which Python's support is only limited. Moreover, Julia is open source, which makes collaborating with others who do not have a Matlab license far easier. This notebook describes the basic syntax of Julia, which is rather similar to Matlab."
   ]
  }
 ],
 "metadata": {
  "kernelspec": {
   "display_name": "Julia 1.8.2",
   "language": "julia",
   "name": "julia-1.8"
  },
  "language_info": {
   "name": "julia",
   "version": "3.10.7 (main, Sep 14 2022, 22:38:23) [Clang 14.0.0 (clang-1400.0.29.102)]"
  },
  "orig_nbformat": 4,
  "vscode": {
   "interpreter": {
    "hash": "b0fa6594d8f4cbf19f97940f81e996739fb7646882a419484c72d19e05852a7e"
   }
  }
 },
 "nbformat": 4,
 "nbformat_minor": 2
}
