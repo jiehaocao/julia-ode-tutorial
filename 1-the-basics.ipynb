{
 "cells": [
  {
   "attachments": {},
   "cell_type": "markdown",
   "metadata": {},
   "source": [
    "# 1. The Basics of Julia\n",
    "Julia is a programming language designed to make scientific computing easy, with a simple syntax, just like Python and Matlab. Moreover, Julia has advantages compared to Python in areas of multithreaded computing, for which Python's support is only limited. Moreover, Julia is open source, which makes collaborating with others who do not have a Matlab license far easier. This notebook describes the basic syntax of Julia, which is rather similar to Matlab."
   ]
  },
  {
   "attachments": {},
   "cell_type": "markdown",
   "metadata": {},
   "source": [
    "## Variables and Operations\n",
    "This section is greatly similar to what you may already know from Matlab and Python, you can assign values to variables easily using the `=` operator. You can also perform calculations using `+`, `-`, `*` and `/`, and many others. A simple example is shown below."
   ]
  },
  {
   "cell_type": "code",
   "execution_count": 12,
   "metadata": {},
   "outputs": [
    {
     "data": {
      "text/plain": [
       "11"
      ]
     },
     "execution_count": 12,
     "metadata": {},
     "output_type": "execute_result"
    }
   ],
   "source": [
    "# create a variable x\n",
    "x = 3\n",
    "\n",
    "# add 2 to x\n",
    "x += 2\n",
    "\n",
    "# divide by 3\n",
    "x /= 3\n",
    "\n",
    "# multiply by 7\n",
    "x *= 7\n",
    "\n",
    "# subtract 2/3\n",
    "x -= 2/3\n",
    "\n",
    "# convert to integer\n",
    "Int(round(x))"
   ]
  },
  {
   "attachments": {},
   "cell_type": "markdown",
   "metadata": {},
   "source": [
    "Similarly to Matlab, operators also contain an element-wise version, by adding a dot (.) in front of the operator. As taking the power of a vector is undefined, we need the special element-wise version to square every element in an array."
   ]
  },
  {
   "cell_type": "code",
   "execution_count": 30,
   "metadata": {},
   "outputs": [
    {
     "data": {
      "text/plain": [
       "3-element Vector{Int64}:\n",
       " 1\n",
       " 4\n",
       " 9"
      ]
     },
     "metadata": {},
     "output_type": "display_data"
    },
    {
     "data": {
      "text/plain": [
       "2×3 Matrix{Int64}:\n",
       "  1   4   9\n",
       " 16  25  36"
      ]
     },
     "metadata": {},
     "output_type": "display_data"
    },
    {
     "data": {
      "text/plain": [
       "2×3 Matrix{Any}:\n",
       "  1   4.0  9\n",
       " 16  25.0   \"66\""
      ]
     },
     "metadata": {},
     "output_type": "display_data"
    }
   ],
   "source": [
    "example_vector = [1, 2, 3]\n",
    "display(example_array.^2)\n",
    "\n",
    "example_matrix = [\n",
    "    1 2 3\n",
    "    4 5 6\n",
    "]\n",
    "\n",
    "display(example_matrix.^2)\n",
    "\n",
    "example_matrix_multiple_types = [\n",
    "    1 2. 3\n",
    "    4 5. \"6\"\n",
    "]\n",
    "\n",
    "display(example_matrix_multiple_types.^2)"
   ]
  },
  {
   "attachments": {},
   "cell_type": "markdown",
   "metadata": {},
   "source": [
    "## Functions\n",
    "Functions can be defined using the `function` keyword argument or as a one-liner using `.()`. "
   ]
  },
  {
   "cell_type": "code",
   "execution_count": 1,
   "metadata": {},
   "outputs": [
    {
     "data": {
      "text/plain": [
       "double (generic function with 1 method)"
      ]
     },
     "execution_count": 1,
     "metadata": {},
     "output_type": "execute_result"
    }
   ],
   "source": [
    "function double(x)\n",
    "    2*x\n",
    "end\n",
    "\n",
    "double"
   ]
  },
  {
   "cell_type": "code",
   "execution_count": 2,
   "metadata": {},
   "outputs": [
    {
     "data": {
      "text/plain": [
       "triple (generic function with 1 method)"
      ]
     },
     "execution_count": 2,
     "metadata": {},
     "output_type": "execute_result"
    }
   ],
   "source": [
    "triple(x) = 3*x\n",
    "\n",
    "triple"
   ]
  },
  {
   "attachments": {},
   "cell_type": "markdown",
   "metadata": {},
   "source": [
    "We can also specify argument types using `::`. In this way, we can define functions with the same name, for different argument types. This is called overloading, which is not used in Python and Matlab, but is widely used in for example the Java programming language."
   ]
  },
  {
   "cell_type": "code",
   "execution_count": 11,
   "metadata": {},
   "outputs": [
    {
     "data": {
      "text/plain": [
       "extend_with_last_number (generic function with 2 methods)"
      ]
     },
     "metadata": {},
     "output_type": "display_data"
    },
    {
     "data": {
      "text/plain": [
       "\"39588\""
      ]
     },
     "metadata": {},
     "output_type": "display_data"
    },
    {
     "data": {
      "text/plain": [
       "39588"
      ]
     },
     "metadata": {},
     "output_type": "display_data"
    }
   ],
   "source": [
    "function extend_with_last_number(n::Int)\n",
    "    10*n+digits(n)[1]\n",
    "end\n",
    "\n",
    "function extend_with_last_number(n::String)\n",
    "    n*n[end]\n",
    "end\n",
    "\n",
    "display(extend_with_last_number)\n",
    "\n",
    "display(extend_with_last_number(\"3958\"))\n",
    "display(extend_with_last_number(3958))"
   ]
  },
  {
   "attachments": {},
   "cell_type": "markdown",
   "metadata": {},
   "source": [
    "An error will now occur, if we try to execute this function on a non-specified input type"
   ]
  },
  {
   "cell_type": "code",
   "execution_count": 12,
   "metadata": {},
   "outputs": [
    {
     "ename": "LoadError",
     "evalue": "MethodError: no method matching extend_with_last_number(::Float64)\n\u001b[0mClosest candidates are:\n\u001b[0m  extend_with_last_number(\u001b[91m::Int64\u001b[39m) at In[11]:1\n\u001b[0m  extend_with_last_number(\u001b[91m::String\u001b[39m) at In[11]:5",
     "output_type": "error",
     "traceback": [
      "MethodError: no method matching extend_with_last_number(::Float64)\n\u001b[0mClosest candidates are:\n\u001b[0m  extend_with_last_number(\u001b[91m::Int64\u001b[39m) at In[11]:1\n\u001b[0m  extend_with_last_number(\u001b[91m::String\u001b[39m) at In[11]:5",
      "",
      "Stacktrace:",
      " [1] top-level scope",
      "   @ In[12]:1"
     ]
    }
   ],
   "source": [
    "# uncomment to show error\n",
    "# extend_with_last_number(3.)"
   ]
  },
  {
   "attachments": {},
   "cell_type": "markdown",
   "metadata": {},
   "source": [
    "The Julia output will show that there is no method matching the desired signature. It will also display the closest candidates that might work if we change the signature slightly. "
   ]
  },
  {
   "attachments": {},
   "cell_type": "markdown",
   "metadata": {},
   "source": [
    "### Anonymous functions\n",
    "We can also define anonymous functions (similar to `lambda` in python), using the `->` operator. In the example below, an anonymous function is defined that takes an argument `x` and returns `x+3`."
   ]
  },
  {
   "cell_type": "code",
   "execution_count": 13,
   "metadata": {},
   "outputs": [
    {
     "data": {
      "text/plain": [
       "#1 (generic function with 1 method)"
      ]
     },
     "execution_count": 13,
     "metadata": {},
     "output_type": "execute_result"
    }
   ],
   "source": [
    "x -> x+3"
   ]
  }
 ],
 "metadata": {
  "kernelspec": {
   "display_name": "Julia 1.8.2",
   "language": "julia",
   "name": "julia-1.8"
  },
  "language_info": {
   "file_extension": ".jl",
   "mimetype": "application/julia",
   "name": "julia",
   "version": "1.8.2"
  },
  "orig_nbformat": 4,
  "vscode": {
   "interpreter": {
    "hash": "b0fa6594d8f4cbf19f97940f81e996739fb7646882a419484c72d19e05852a7e"
   }
  }
 },
 "nbformat": 4,
 "nbformat_minor": 2
}
